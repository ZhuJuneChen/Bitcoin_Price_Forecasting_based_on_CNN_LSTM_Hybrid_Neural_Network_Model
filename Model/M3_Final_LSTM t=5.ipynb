{
 "cells": [
  {
   "cell_type": "code",
   "execution_count": 82,
   "metadata": {},
   "outputs": [],
   "source": [
    "import numpy as np\n",
    "import pandas as pd\n",
    "import matplotlib.pyplot as plt\n",
    "from tensorflow import keras\n",
    "from tensorflow.keras import layers\n",
    "from sklearn.preprocessing import MinMaxScaler\n",
    "from keras import regularizers\n",
    "from torch.utils.data import Dataset, DataLoader\n",
    "from torch import nn, optim\n",
    "import torch\n",
    "import torch.nn.functional as F"
   ]
  },
  {
   "cell_type": "markdown",
   "metadata": {},
   "source": [
    "## Data Pre-processing"
   ]
  },
  {
   "cell_type": "code",
   "execution_count": 83,
   "metadata": {},
   "outputs": [],
   "source": [
    "# Load the data\n",
    "BitCoin = pd.read_csv('1_Bitcoin.csv')\n",
    "BitCoin=BitCoin.applymap(lambda x: x.replace('$',''))\n",
    "BitCoin=BitCoin.applymap(lambda x: x.replace(',',''))\n",
    "cl = ['Open*', 'High', 'Low', 'Close**', 'Volume', 'Market Cap']\n",
    "for c in cl:\n",
    "    BitCoin[c] = BitCoin[c].astype(float)\n",
    "MarketData = pd.read_excel('MarketData.xlsx') \n",
    "BitCoin['SP500'] = MarketData['S&P_processed'].values\n",
    "\n",
    "BitCoin = BitCoin.rename(columns={'Open*': 'Open', 'Close**': 'Close'})\n",
    "data_l = len(BitCoin)\n",
    "BitCoin = BitCoin[data_l::-1]"
   ]
  },
  {
   "cell_type": "code",
   "execution_count": 84,
   "metadata": {},
   "outputs": [
    {
     "data": {
      "text/html": [
       "<div>\n",
       "<style scoped>\n",
       "    .dataframe tbody tr th:only-of-type {\n",
       "        vertical-align: middle;\n",
       "    }\n",
       "\n",
       "    .dataframe tbody tr th {\n",
       "        vertical-align: top;\n",
       "    }\n",
       "\n",
       "    .dataframe thead th {\n",
       "        text-align: right;\n",
       "    }\n",
       "</style>\n",
       "<table border=\"1\" class=\"dataframe\">\n",
       "  <thead>\n",
       "    <tr style=\"text-align: right;\">\n",
       "      <th></th>\n",
       "      <th>Date</th>\n",
       "      <th>Open</th>\n",
       "      <th>High</th>\n",
       "      <th>Low</th>\n",
       "      <th>Close</th>\n",
       "      <th>Volume</th>\n",
       "      <th>Market Cap</th>\n",
       "      <th>SP500</th>\n",
       "    </tr>\n",
       "  </thead>\n",
       "  <tbody>\n",
       "    <tr>\n",
       "      <th>3041</th>\n",
       "      <td>Jul 02 2013</td>\n",
       "      <td>88.05</td>\n",
       "      <td>92.30</td>\n",
       "      <td>87.51</td>\n",
       "      <td>90.13</td>\n",
       "      <td>0.0</td>\n",
       "      <td>1.024082e+09</td>\n",
       "      <td>4605.38</td>\n",
       "    </tr>\n",
       "    <tr>\n",
       "      <th>3040</th>\n",
       "      <td>Jul 03 2013</td>\n",
       "      <td>90.40</td>\n",
       "      <td>90.98</td>\n",
       "      <td>76.98</td>\n",
       "      <td>77.53</td>\n",
       "      <td>0.0</td>\n",
       "      <td>8.812331e+08</td>\n",
       "      <td>4596.42</td>\n",
       "    </tr>\n",
       "    <tr>\n",
       "      <th>3039</th>\n",
       "      <td>Jul 04 2013</td>\n",
       "      <td>78.89</td>\n",
       "      <td>83.11</td>\n",
       "      <td>72.00</td>\n",
       "      <td>80.53</td>\n",
       "      <td>0.0</td>\n",
       "      <td>9.156186e+08</td>\n",
       "      <td>4551.68</td>\n",
       "    </tr>\n",
       "    <tr>\n",
       "      <th>3038</th>\n",
       "      <td>Jul 05 2013</td>\n",
       "      <td>79.99</td>\n",
       "      <td>80.00</td>\n",
       "      <td>65.53</td>\n",
       "      <td>68.43</td>\n",
       "      <td>0.0</td>\n",
       "      <td>7.784112e+08</td>\n",
       "      <td>4574.79</td>\n",
       "    </tr>\n",
       "    <tr>\n",
       "      <th>3037</th>\n",
       "      <td>Jul 06 2013</td>\n",
       "      <td>68.50</td>\n",
       "      <td>75.00</td>\n",
       "      <td>66.82</td>\n",
       "      <td>70.28</td>\n",
       "      <td>0.0</td>\n",
       "      <td>7.997416e+08</td>\n",
       "      <td>4566.48</td>\n",
       "    </tr>\n",
       "  </tbody>\n",
       "</table>\n",
       "</div>"
      ],
      "text/plain": [
       "             Date   Open   High    Low  Close  Volume    Market Cap    SP500\n",
       "3041  Jul 02 2013  88.05  92.30  87.51  90.13     0.0  1.024082e+09  4605.38\n",
       "3040  Jul 03 2013  90.40  90.98  76.98  77.53     0.0  8.812331e+08  4596.42\n",
       "3039  Jul 04 2013  78.89  83.11  72.00  80.53     0.0  9.156186e+08  4551.68\n",
       "3038  Jul 05 2013  79.99  80.00  65.53  68.43     0.0  7.784112e+08  4574.79\n",
       "3037  Jul 06 2013  68.50  75.00  66.82  70.28     0.0  7.997416e+08  4566.48"
      ]
     },
     "execution_count": 84,
     "metadata": {},
     "output_type": "execute_result"
    }
   ],
   "source": [
    "BitCoin.head(5)"
   ]
  },
  {
   "cell_type": "code",
   "execution_count": 86,
   "metadata": {},
   "outputs": [
    {
     "data": {
      "text/plain": [
       "Index(['Date', 'Open', 'High', 'Low', 'Close', 'Volume', 'Market Cap',\n",
       "       'SP500'],\n",
       "      dtype='object')"
      ]
     },
     "execution_count": 86,
     "metadata": {},
     "output_type": "execute_result"
    }
   ],
   "source": [
    "BitCoin.columns"
   ]
  },
  {
   "cell_type": "code",
   "execution_count": 87,
   "metadata": {},
   "outputs": [],
   "source": [
    "Data = BitCoin[['Close','Open','High', 'Low', 'Volume']]\n",
    "in_dim = len(Data.columns)\n",
    "# Time series length\n",
    "time_stamp = 5\n",
    "\n",
    "# Seperate training, validating, testing dataset\n",
    "P = BitCoin[['Close','Open','High', 'Low', 'Volume']]\n",
    "split_1 = int(len(Data) * 0.6)\n",
    "split_2 = int(len(Data) *0.8)\n",
    "\n",
    "train = Data[0:split_1+time_stamp]\n",
    "valid = Data[split_1:split_2 + time_stamp]\n",
    "test = Data[split_2 :]\n"
   ]
  },
  {
   "cell_type": "code",
   "execution_count": 88,
   "metadata": {},
   "outputs": [
    {
     "name": "stdout",
     "output_type": "stream",
     "text": [
      "(1820, 5, 5)\n",
      "(1820,)\n",
      "(603, 5, 5)\n",
      "(603,)\n",
      "(599, 5, 5)\n",
      "(599,)\n"
     ]
    }
   ],
   "source": [
    "# Normalization\n",
    "scaler = MinMaxScaler()\n",
    "def data_processing(data, time_stamp):\n",
    "    min_ = data['Close'].min()\n",
    "    max_ = data['Close'].max()\n",
    "    scaled_data = scaler.fit_transform(data)\n",
    "    x, y = [], []\n",
    "    for i in range(time_stamp, len(data)-time_stamp):\n",
    "        x.append(scaled_data[i-time_stamp:i,:])\n",
    "        y.append(scaled_data[i,0])\n",
    "    x, y = np.array(x), np.array(y)\n",
    "    x = np.reshape(x, (x.shape[0], x.shape[1], in_dim))\n",
    "    return x,y,max_,min_\n",
    "\n",
    "x_train, y_train, max_train, min_train = data_processing(train, time_stamp)\n",
    "x_valid, y_valid,max_valid, min_valid  = data_processing(valid, time_stamp)\n",
    "x_test, y_test,max_test, min_test   = data_processing(test, time_stamp)"
   ]
  },
  {
   "cell_type": "code",
   "execution_count": 89,
   "metadata": {},
   "outputs": [],
   "source": [
    "# Build function to make dataset for pytorch\n",
    "class PriceDataset(Dataset):\n",
    "    def __init__(self,x_train,y_train):\n",
    "        self.x_train = x_train\n",
    "        self.y_train = y_train\n",
    "        \n",
    "    def __len__(self):\n",
    "        return len(x_train)\n",
    "    \n",
    "    def __getitem__(self, index):\n",
    "        return x_train[index], y_train[index]\n",
    "\n",
    "def makeloader(dataset,batch_size):\n",
    "    \n",
    "    loader = DataLoader(dataset, batch_size, shuffle = True)\n",
    "    return loader"
   ]
  },
  {
   "cell_type": "code",
   "execution_count": 90,
   "metadata": {
    "scrolled": true
   },
   "outputs": [
    {
     "name": "stdout",
     "output_type": "stream",
     "text": [
      "tensor([0.0195, 0.0198, 0.0190, 0.0202, 0.0014], dtype=torch.float64)\n",
      "torch.Size([64])\n"
     ]
    },
    {
     "data": {
      "text/plain": [
       "(1820, 5, 5)"
      ]
     },
     "execution_count": 90,
     "metadata": {},
     "output_type": "execute_result"
    }
   ],
   "source": [
    "# Make dataset\n",
    "batch_size = 64\n",
    "\n",
    "dataset =  PriceDataset(x_train, y_train)\n",
    "loader = makeloader(dataset, batch_size)\n",
    "\n",
    "val_dataset =  PriceDataset(x_valid, y_valid)\n",
    "val_loader = makeloader(val_dataset, batch_size)\n",
    "\n",
    "test_dataset =  PriceDataset(x_test, y_test)\n",
    "test_loader = makeloader(test_dataset, batch_size)\n",
    "\n",
    "\n",
    "# TESTING\n",
    "for batch_x, batch_y in loader:\n",
    "    print(batch_x[0][0])\n",
    "    print(batch_y.shape)\n",
    "    break\n",
    "    \n",
    "dataset.x_train.shape"
   ]
  },
  {
   "cell_type": "markdown",
   "metadata": {},
   "source": [
    "## Model"
   ]
  },
  {
   "cell_type": "code",
   "execution_count": 91,
   "metadata": {
    "scrolled": false
   },
   "outputs": [],
   "source": [
    "# Building LSTM model\n",
    "class LSTM(nn.Module):\n",
    "    def __init__(self, input_dim,hidden_dim,out_dim):\n",
    "        super(LSTM, self).__init__()\n",
    "        self.hidden_dim = hidden_dim\n",
    "        self.lstm1 = nn.LSTM(input_dim, hidden_dim)\n",
    "        self.lstm2 = nn.LSTM(hidden_dim, hidden_dim)\n",
    "        self.lstm3 = nn.LSTM(hidden_dim, hidden_dim)\n",
    "        self.lstm4 = nn.LSTM(hidden_dim, out_dim)\n",
    "    def forward(self, x_train):        \n",
    "        lstm_out1, _ = self.lstm1(x_train)\n",
    "        lstm_out2, _ = self.lstm2(lstm_out1)\n",
    "        lstm_out3, _ = self.lstm3(lstm_out2)\n",
    "        lstm_out, _ = self.lstm4(lstm_out3)\n",
    "        return lstm_out"
   ]
  },
  {
   "cell_type": "code",
   "execution_count": 112,
   "metadata": {},
   "outputs": [
    {
     "name": "stdout",
     "output_type": "stream",
     "text": [
      "LSTM(\n",
      "  (lstm1): LSTM(5, 64)\n",
      "  (lstm2): LSTM(64, 64)\n",
      "  (lstm3): LSTM(64, 64)\n",
      "  (lstm4): LSTM(64, 1)\n",
      ")\n"
     ]
    }
   ],
   "source": [
    "model=LSTM(in_dim,64,1)\n",
    "optimizer = optim.Adam(model.parameters(), lr=5e-3)\n",
    "# loss function - MAPE,  is defined in traning process\n",
    "print(model)"
   ]
  },
  {
   "cell_type": "code",
   "execution_count": 94,
   "metadata": {
    "scrolled": true
   },
   "outputs": [
    {
     "name": "stderr",
     "output_type": "stream",
     "text": [
      "<ipython-input-94-cb49ca05c1d1>:16: UserWarning: To copy construct from a tensor, it is recommended to use sourceTensor.clone().detach() or sourceTensor.clone().detach().requires_grad_(True), rather than torch.tensor(sourceTensor).\n",
      "  out = model(torch.tensor(batch_x).float())[:,-1,:].reshape(-1) # Run forward pass.\n",
      "<ipython-input-94-cb49ca05c1d1>:31: UserWarning: To copy construct from a tensor, it is recommended to use sourceTensor.clone().detach() or sourceTensor.clone().detach().requires_grad_(True), rather than torch.tensor(sourceTensor).\n",
      "  out = model(torch.tensor(batch_x).float())[:,-1,:].reshape(-1)\n"
     ]
    },
    {
     "name": "stdout",
     "output_type": "stream",
     "text": [
      "Iter 1 ,Train MAPE: 0.86825, Valid MAPE: 0.12886\n",
      "Iter 2 ,Train MAPE: 0.59775, Valid MAPE: 0.13676\n",
      "Iter 3 ,Train MAPE: 0.58879, Valid MAPE: 0.13590\n",
      "Iter 4 ,Train MAPE: 0.58800, Valid MAPE: 0.13593\n",
      "Iter 5 ,Train MAPE: 0.58811, Valid MAPE: 0.13169\n",
      "Iter 6 ,Train MAPE: 0.59114, Valid MAPE: 0.13394\n",
      "Iter 7 ,Train MAPE: 0.58963, Valid MAPE: 0.13544\n",
      "Iter 8 ,Train MAPE: 0.58829, Valid MAPE: 0.13627\n",
      "Iter 9 ,Train MAPE: 0.59071, Valid MAPE: 0.13379\n",
      "Iter 10 ,Train MAPE: 0.58956, Valid MAPE: 0.13325\n",
      "Iter 11 ,Train MAPE: 0.59095, Valid MAPE: 0.13397\n",
      "Iter 12 ,Train MAPE: 0.58537, Valid MAPE: 0.13569\n",
      "Iter 13 ,Train MAPE: 0.58815, Valid MAPE: 0.13043\n",
      "Iter 14 ,Train MAPE: 0.58912, Valid MAPE: 0.13363\n",
      "Iter 15 ,Train MAPE: 0.58503, Valid MAPE: 0.13149\n",
      "Iter 16 ,Train MAPE: 0.57962, Valid MAPE: 0.12838\n",
      "Iter 17 ,Train MAPE: 0.45500, Valid MAPE: 0.04184\n",
      "Iter 18 ,Train MAPE: 0.27121, Valid MAPE: 0.03466\n",
      "Iter 19 ,Train MAPE: 0.22938, Valid MAPE: 0.02021\n",
      "Iter 20 ,Train MAPE: 0.14172, Valid MAPE: 0.01627\n",
      "Iter 21 ,Train MAPE: 0.13467, Valid MAPE: 0.01766\n",
      "Iter 22 ,Train MAPE: 0.10374, Valid MAPE: 0.01212\n",
      "Iter 23 ,Train MAPE: 0.09914, Valid MAPE: 0.01279\n",
      "Iter 24 ,Train MAPE: 0.09574, Valid MAPE: 0.01518\n",
      "Iter 25 ,Train MAPE: 0.07813, Valid MAPE: 0.00891\n",
      "Iter 26 ,Train MAPE: 0.09416, Valid MAPE: 0.02347\n",
      "Iter 27 ,Train MAPE: 0.08688, Valid MAPE: 0.01050\n",
      "Iter 28 ,Train MAPE: 0.07464, Valid MAPE: 0.01032\n",
      "Iter 29 ,Train MAPE: 0.08751, Valid MAPE: 0.01007\n",
      "Iter 30 ,Train MAPE: 0.06195, Valid MAPE: 0.01540\n",
      "Iter 31 ,Train MAPE: 0.05649, Valid MAPE: 0.01068\n",
      "Iter 32 ,Train MAPE: 0.06203, Valid MAPE: 0.01123\n",
      "Iter 33 ,Train MAPE: 0.06276, Valid MAPE: 0.00839\n",
      "Iter 34 ,Train MAPE: 0.06173, Valid MAPE: 0.01125\n",
      "Iter 35 ,Train MAPE: 0.06307, Valid MAPE: 0.00853\n",
      "Iter 36 ,Train MAPE: 0.06013, Valid MAPE: 0.00890\n",
      "Iter 37 ,Train MAPE: 0.07866, Valid MAPE: 0.01147\n",
      "Iter 38 ,Train MAPE: 0.06354, Valid MAPE: 0.00797\n",
      "Iter 39 ,Train MAPE: 0.05668, Valid MAPE: 0.01331\n",
      "Iter 40 ,Train MAPE: 0.05310, Valid MAPE: 0.00982\n",
      "Iter 41 ,Train MAPE: 0.06431, Valid MAPE: 0.01143\n",
      "Iter 42 ,Train MAPE: 0.05161, Valid MAPE: 0.01010\n",
      "Iter 43 ,Train MAPE: 0.05236, Valid MAPE: 0.00843\n",
      "Iter 44 ,Train MAPE: 0.04913, Valid MAPE: 0.01003\n",
      "Iter 45 ,Train MAPE: 0.05478, Valid MAPE: 0.01020\n",
      "Iter 46 ,Train MAPE: 0.05782, Valid MAPE: 0.00890\n",
      "Iter 47 ,Train MAPE: 0.05531, Valid MAPE: 0.00986\n",
      "Iter 48 ,Train MAPE: 0.06170, Valid MAPE: 0.01098\n",
      "Iter 49 ,Train MAPE: 0.06965, Valid MAPE: 0.00810\n",
      "Iter 50 ,Train MAPE: 0.04918, Valid MAPE: 0.00917\n",
      "Iter 51 ,Train MAPE: 0.04828, Valid MAPE: 0.00786\n",
      "Iter 52 ,Train MAPE: 0.05091, Valid MAPE: 0.01193\n",
      "Iter 53 ,Train MAPE: 0.06518, Valid MAPE: 0.00958\n",
      "Iter 54 ,Train MAPE: 0.05491, Valid MAPE: 0.00870\n",
      "Iter 55 ,Train MAPE: 0.04905, Valid MAPE: 0.00860\n",
      "Iter 56 ,Train MAPE: 0.04320, Valid MAPE: 0.00869\n",
      "Iter 57 ,Train MAPE: 0.04650, Valid MAPE: 0.00870\n",
      "Iter 58 ,Train MAPE: 0.05085, Valid MAPE: 0.00725\n",
      "Iter 59 ,Train MAPE: 0.04780, Valid MAPE: 0.01036\n",
      "Iter 60 ,Train MAPE: 0.05118, Valid MAPE: 0.01005\n",
      "Iter 61 ,Train MAPE: 0.04522, Valid MAPE: 0.00806\n",
      "Iter 62 ,Train MAPE: 0.04276, Valid MAPE: 0.00808\n",
      "Iter 63 ,Train MAPE: 0.04685, Valid MAPE: 0.00776\n",
      "Iter 64 ,Train MAPE: 0.04361, Valid MAPE: 0.00890\n",
      "Iter 65 ,Train MAPE: 0.04716, Valid MAPE: 0.00742\n",
      "Iter 66 ,Train MAPE: 0.05315, Valid MAPE: 0.00767\n",
      "Iter 67 ,Train MAPE: 0.04912, Valid MAPE: 0.01022\n",
      "Iter 68 ,Train MAPE: 0.04711, Valid MAPE: 0.00850\n",
      "Iter 69 ,Train MAPE: 0.04698, Valid MAPE: 0.00918\n",
      "Iter 70 ,Train MAPE: 0.04756, Valid MAPE: 0.00915\n",
      "Iter 71 ,Train MAPE: 0.04533, Valid MAPE: 0.00761\n",
      "Iter 72 ,Train MAPE: 0.04217, Valid MAPE: 0.00704\n",
      "Iter 73 ,Train MAPE: 0.04308, Valid MAPE: 0.00828\n",
      "Iter 74 ,Train MAPE: 0.05076, Valid MAPE: 0.00855\n",
      "Iter 75 ,Train MAPE: 0.04646, Valid MAPE: 0.00996\n",
      "Iter 76 ,Train MAPE: 0.04674, Valid MAPE: 0.00780\n",
      "Iter 77 ,Train MAPE: 0.04176, Valid MAPE: 0.00742\n",
      "Iter 78 ,Train MAPE: 0.04393, Valid MAPE: 0.00820\n",
      "Iter 79 ,Train MAPE: 0.04151, Valid MAPE: 0.00781\n",
      "Iter 80 ,Train MAPE: 0.04208, Valid MAPE: 0.00798\n",
      "Iter 81 ,Train MAPE: 0.04146, Valid MAPE: 0.00849\n",
      "Iter 82 ,Train MAPE: 0.04630, Valid MAPE: 0.00824\n",
      "Iter 83 ,Train MAPE: 0.04592, Valid MAPE: 0.01120\n",
      "Iter 84 ,Train MAPE: 0.04968, Valid MAPE: 0.00736\n",
      "Iter 85 ,Train MAPE: 0.04355, Valid MAPE: 0.00742\n",
      "Iter 86 ,Train MAPE: 0.04672, Valid MAPE: 0.00963\n",
      "Iter 87 ,Train MAPE: 0.05037, Valid MAPE: 0.00719\n",
      "Iter 88 ,Train MAPE: 0.04209, Valid MAPE: 0.00688\n",
      "Iter 89 ,Train MAPE: 0.04025, Valid MAPE: 0.00706\n",
      "Iter 90 ,Train MAPE: 0.04308, Valid MAPE: 0.00762\n",
      "Iter 91 ,Train MAPE: 0.04106, Valid MAPE: 0.00759\n",
      "Iter 92 ,Train MAPE: 0.04883, Valid MAPE: 0.00832\n",
      "Iter 93 ,Train MAPE: 0.05114, Valid MAPE: 0.01069\n",
      "Iter 94 ,Train MAPE: 0.05437, Valid MAPE: 0.00819\n",
      "Iter 95 ,Train MAPE: 0.04781, Valid MAPE: 0.01026\n",
      "Iter 96 ,Train MAPE: 0.05164, Valid MAPE: 0.00830\n",
      "Iter 97 ,Train MAPE: 0.04716, Valid MAPE: 0.00771\n",
      "Iter 98 ,Train MAPE: 0.04296, Valid MAPE: 0.00718\n",
      "Iter 99 ,Train MAPE: 0.03937, Valid MAPE: 0.00710\n",
      "Iter 100 ,Train MAPE: 0.04683, Valid MAPE: 0.00868\n",
      "Iter 101 ,Train MAPE: 0.05997, Valid MAPE: 0.00921\n",
      "Iter 102 ,Train MAPE: 0.04186, Valid MAPE: 0.00698\n",
      "Iter 103 ,Train MAPE: 0.04250, Valid MAPE: 0.00725\n",
      "Iter 104 ,Train MAPE: 0.03905, Valid MAPE: 0.00773\n",
      "Iter 105 ,Train MAPE: 0.03973, Valid MAPE: 0.00671\n",
      "Iter 106 ,Train MAPE: 0.03791, Valid MAPE: 0.00808\n",
      "Iter 107 ,Train MAPE: 0.03682, Valid MAPE: 0.00702\n",
      "Iter 108 ,Train MAPE: 0.04221, Valid MAPE: 0.00945\n",
      "Iter 109 ,Train MAPE: 0.04441, Valid MAPE: 0.00916\n",
      "Iter 110 ,Train MAPE: 0.04680, Valid MAPE: 0.00748\n",
      "Iter 111 ,Train MAPE: 0.04789, Valid MAPE: 0.00901\n",
      "Iter 112 ,Train MAPE: 0.04781, Valid MAPE: 0.00774\n",
      "Iter 113 ,Train MAPE: 0.04502, Valid MAPE: 0.00751\n",
      "Iter 114 ,Train MAPE: 0.04349, Valid MAPE: 0.00826\n",
      "Iter 115 ,Train MAPE: 0.04490, Valid MAPE: 0.00758\n",
      "Iter 116 ,Train MAPE: 0.04241, Valid MAPE: 0.00806\n",
      "Iter 117 ,Train MAPE: 0.03932, Valid MAPE: 0.00813\n",
      "Iter 118 ,Train MAPE: 0.04110, Valid MAPE: 0.00731\n",
      "Iter 119 ,Train MAPE: 0.03941, Valid MAPE: 0.00728\n",
      "Iter 120 ,Train MAPE: 0.04091, Valid MAPE: 0.00750\n",
      "Iter 121 ,Train MAPE: 0.04212, Valid MAPE: 0.00666\n",
      "Iter 122 ,Train MAPE: 0.04152, Valid MAPE: 0.00812\n",
      "Iter 123 ,Train MAPE: 0.05377, Valid MAPE: 0.00730\n",
      "Iter 124 ,Train MAPE: 0.05255, Valid MAPE: 0.00787\n",
      "Iter 125 ,Train MAPE: 0.04861, Valid MAPE: 0.01240\n",
      "Iter 126 ,Train MAPE: 0.04252, Valid MAPE: 0.00731\n",
      "Iter 127 ,Train MAPE: 0.03992, Valid MAPE: 0.00692\n",
      "Iter 128 ,Train MAPE: 0.03839, Valid MAPE: 0.00761\n",
      "Iter 129 ,Train MAPE: 0.04180, Valid MAPE: 0.00719\n",
      "Iter 130 ,Train MAPE: 0.03603, Valid MAPE: 0.00708\n",
      "Iter 131 ,Train MAPE: 0.03725, Valid MAPE: 0.00661\n",
      "Iter 132 ,Train MAPE: 0.03922, Valid MAPE: 0.00686\n",
      "Iter 133 ,Train MAPE: 0.04126, Valid MAPE: 0.00733\n",
      "Iter 134 ,Train MAPE: 0.04093, Valid MAPE: 0.00687\n",
      "Iter 135 ,Train MAPE: 0.03862, Valid MAPE: 0.00729\n",
      "Iter 136 ,Train MAPE: 0.04040, Valid MAPE: 0.00698\n",
      "Iter 137 ,Train MAPE: 0.04262, Valid MAPE: 0.00700\n",
      "Iter 138 ,Train MAPE: 0.05454, Valid MAPE: 0.01079\n",
      "Iter 139 ,Train MAPE: 0.04201, Valid MAPE: 0.01121\n",
      "Iter 140 ,Train MAPE: 0.04172, Valid MAPE: 0.00759\n",
      "Iter 141 ,Train MAPE: 0.03877, Valid MAPE: 0.00844\n",
      "Iter 142 ,Train MAPE: 0.04497, Valid MAPE: 0.00735\n",
      "Iter 143 ,Train MAPE: 0.05227, Valid MAPE: 0.00767\n",
      "Iter 144 ,Train MAPE: 0.04814, Valid MAPE: 0.00787\n",
      "Iter 145 ,Train MAPE: 0.04868, Valid MAPE: 0.00785\n",
      "Iter 146 ,Train MAPE: 0.04123, Valid MAPE: 0.00892\n",
      "Iter 147 ,Train MAPE: 0.04404, Valid MAPE: 0.00702\n",
      "Iter 148 ,Train MAPE: 0.04005, Valid MAPE: 0.00691\n",
      "Iter 149 ,Train MAPE: 0.03978, Valid MAPE: 0.00940\n",
      "Iter 150 ,Train MAPE: 0.04150, Valid MAPE: 0.00797\n",
      "Iter 151 ,Train MAPE: 0.04513, Valid MAPE: 0.00819\n",
      "Iter 152 ,Train MAPE: 0.04505, Valid MAPE: 0.00705\n",
      "Iter 153 ,Train MAPE: 0.03799, Valid MAPE: 0.00712\n",
      "Iter 154 ,Train MAPE: 0.03871, Valid MAPE: 0.00718\n",
      "Iter 155 ,Train MAPE: 0.03597, Valid MAPE: 0.00712\n",
      "Iter 156 ,Train MAPE: 0.04215, Valid MAPE: 0.00766\n",
      "Iter 157 ,Train MAPE: 0.04307, Valid MAPE: 0.00664\n",
      "Iter 158 ,Train MAPE: 0.03864, Valid MAPE: 0.00753\n",
      "Iter 159 ,Train MAPE: 0.03793, Valid MAPE: 0.00720\n",
      "Iter 160 ,Train MAPE: 0.03939, Valid MAPE: 0.00782\n",
      "Iter 161 ,Train MAPE: 0.04487, Valid MAPE: 0.00723\n",
      "Iter 162 ,Train MAPE: 0.04453, Valid MAPE: 0.00954\n",
      "Iter 163 ,Train MAPE: 0.04033, Valid MAPE: 0.00703\n"
     ]
    },
    {
     "name": "stdout",
     "output_type": "stream",
     "text": [
      "Iter 164 ,Train MAPE: 0.03695, Valid MAPE: 0.00792\n",
      "Iter 165 ,Train MAPE: 0.04002, Valid MAPE: 0.00710\n",
      "Iter 166 ,Train MAPE: 0.03779, Valid MAPE: 0.00788\n",
      "Iter 167 ,Train MAPE: 0.04043, Valid MAPE: 0.00748\n",
      "Iter 168 ,Train MAPE: 0.04062, Valid MAPE: 0.00845\n",
      "Iter 169 ,Train MAPE: 0.04161, Valid MAPE: 0.00662\n",
      "Iter 170 ,Train MAPE: 0.03964, Valid MAPE: 0.00737\n",
      "Iter 171 ,Train MAPE: 0.03963, Valid MAPE: 0.00732\n",
      "Iter 172 ,Train MAPE: 0.04160, Valid MAPE: 0.00779\n",
      "Iter 173 ,Train MAPE: 0.03822, Valid MAPE: 0.00909\n",
      "Iter 174 ,Train MAPE: 0.03908, Valid MAPE: 0.00940\n",
      "Iter 175 ,Train MAPE: 0.04566, Valid MAPE: 0.00841\n",
      "Iter 176 ,Train MAPE: 0.04275, Valid MAPE: 0.00819\n",
      "Iter 177 ,Train MAPE: 0.04497, Valid MAPE: 0.00759\n",
      "Iter 178 ,Train MAPE: 0.04394, Valid MAPE: 0.00704\n",
      "Iter 179 ,Train MAPE: 0.04225, Valid MAPE: 0.00724\n",
      "Iter 180 ,Train MAPE: 0.04174, Valid MAPE: 0.00760\n",
      "Iter 181 ,Train MAPE: 0.03905, Valid MAPE: 0.00744\n",
      "Iter 182 ,Train MAPE: 0.04528, Valid MAPE: 0.00963\n",
      "Iter 183 ,Train MAPE: 0.03949, Valid MAPE: 0.00880\n",
      "Iter 184 ,Train MAPE: 0.04914, Valid MAPE: 0.00801\n",
      "Iter 185 ,Train MAPE: 0.04596, Valid MAPE: 0.00739\n",
      "Iter 186 ,Train MAPE: 0.03838, Valid MAPE: 0.00828\n",
      "Iter 187 ,Train MAPE: 0.03974, Valid MAPE: 0.00702\n",
      "Iter 188 ,Train MAPE: 0.03803, Valid MAPE: 0.00778\n",
      "Iter 189 ,Train MAPE: 0.03636, Valid MAPE: 0.00716\n",
      "Iter 190 ,Train MAPE: 0.04535, Valid MAPE: 0.00904\n",
      "Iter 191 ,Train MAPE: 0.04661, Valid MAPE: 0.00773\n",
      "Iter 192 ,Train MAPE: 0.04181, Valid MAPE: 0.00751\n",
      "Iter 193 ,Train MAPE: 0.03936, Valid MAPE: 0.00681\n",
      "Iter 194 ,Train MAPE: 0.03719, Valid MAPE: 0.00671\n",
      "Iter 195 ,Train MAPE: 0.03973, Valid MAPE: 0.00682\n",
      "Iter 196 ,Train MAPE: 0.04024, Valid MAPE: 0.00777\n",
      "Iter 197 ,Train MAPE: 0.03936, Valid MAPE: 0.00714\n",
      "Iter 198 ,Train MAPE: 0.03987, Valid MAPE: 0.00733\n",
      "Iter 199 ,Train MAPE: 0.03899, Valid MAPE: 0.00758\n",
      "Iter 200 ,Train MAPE: 0.03960, Valid MAPE: 0.00701\n"
     ]
    }
   ],
   "source": [
    "epoch = 200\n",
    "\n",
    "# Initialize 2 lists for storing MAPE loss\n",
    "Train_MAPE_list = np.zeros(epoch)\n",
    "Valid_MAPE_list = np.zeros(epoch)\n",
    "best_model = 0\n",
    "lowest_valid =  float('inf') \n",
    "\n",
    "for epoch in range(epoch): \n",
    "    \n",
    "       #     ====== TRAIN  ====== #\n",
    "    model.train()\n",
    "    total_loss = []\n",
    "    for batch_x, batch_y in loader:\n",
    "        model.zero_grad() # Clear them out Pytorch accumulated gradients before each instance\n",
    "        out = model(torch.tensor(batch_x).float())[:,-1,:].reshape(-1) # Run forward pass.\n",
    "        # loss = loss_function(out, batch_y.float())       \n",
    "        loss =abs (((out - batch_y.float())*(max_train - min_train))/(batch_y.float()*(max_train - min_train)+min_train))\n",
    "        loss = torch.mean(loss)\n",
    "#         print(loss.shape)\n",
    "        loss.backward()\n",
    "        optimizer.step()\n",
    "        total_loss.append(loss)\n",
    "    Train_MAPE = sum(total_loss)/len(total_loss)\n",
    "\n",
    "    #     ====== VALID  ====== \n",
    "    model.eval()\n",
    "    total_loss = []\n",
    "    for batch_x, batch_y in val_loader:\n",
    "            model.zero_grad()\n",
    "            out = model(torch.tensor(batch_x).float())[:,-1,:].reshape(-1)\n",
    "#             loss = loss_function(out, batch_y.float())\n",
    "            loss =abs (((out - batch_y.float())*(max_valid- min_valid))/((batch_y.float()*(max_valid - min_valid)+min_valid)))\n",
    "            loss = torch.mean(loss)\n",
    "            total_loss.append(loss)\n",
    "    Valid_MAPE=sum(total_loss)/len(total_loss)\n",
    "    \n",
    "    print(\"Iter %d ,Train MAPE: %.5f, Valid MAPE: %.5f\"%(epoch+1 ,Train_MAPE, Valid_MAPE))\n",
    "    Train_MAPE_list[epoch] = Train_MAPE\n",
    "    Valid_MAPE_list[epoch] = Valid_MAPE"
   ]
  },
  {
   "cell_type": "code",
   "execution_count": 100,
   "metadata": {},
   "outputs": [
    {
     "data": {
      "image/png": "[encoded data removed]",
      "text/plain": [
       "<Figure size 432x288 with 1 Axes>"
      ]
     },
     "metadata": {
      "needs_background": "light"
     },
     "output_type": "display_data"
    }
   ],
   "source": [
    "x_axis = np.arange(50)\n",
    "plt.plot(x_axis, Train_MAPE_list[10:60], label='train MAPE')\n",
    "plt.plot(x_axis, Valid_MAPE_list[10:60], label='val MAPE')\n",
    "plt.legend()\n",
    "plt.show()"
   ]
  },
  {
   "cell_type": "code",
   "execution_count": 101,
   "metadata": {},
   "outputs": [
    {
     "data": {
      "image/png": "[encoded data removed]",
      "text/plain": [
       "<Figure size 432x288 with 1 Axes>"
      ]
     },
     "metadata": {
      "needs_background": "light"
     },
     "output_type": "display_data"
    }
   ],
   "source": [
    "x_axis = np.arange(epoch+1)\n",
    "plt.plot(x_axis, Train_MAPE_list[:], label='train MAPE')\n",
    "plt.plot(x_axis, Valid_MAPE_list[:], label='val MAPE')\n",
    "plt.legend()\n",
    "plt.show()"
   ]
  },
  {
   "cell_type": "markdown",
   "metadata": {},
   "source": [
    "## Test & Report Data"
   ]
  },
  {
   "cell_type": "code",
   "execution_count": 106,
   "metadata": {
    "scrolled": false
   },
   "outputs": [
    {
     "name": "stdout",
     "output_type": "stream",
     "text": [
      "shape of test_y_pred:    (599,)\n",
      "The mean absolute percentage error for the LSTM is: 0.040828\n"
     ]
    }
   ],
   "source": [
    "## test performance on the test set and report final performance\n",
    "X_test_tensor =  torch.tensor(x_test).float()\n",
    "y_test_pred = model(X_test_tensor).float()[:,-1,:].reshape(-1).detach().numpy()\n",
    "y_test_pred_inverse = y_test_pred*(max_test - min_test)+min_test\n",
    "y_test_invesre = y_test*(max_test - min_test)+min_test\n",
    "\n",
    "test_MAPE=sum(abs ((y_test_invesre - y_test_pred_inverse)/y_test_invesre))/len(y_test_invesre)\n",
    "print(\"The mean absolute percentage error for the LSTM is: %2f\"%test_MAPE)\n"
   ]
  },
  {
   "cell_type": "code",
   "execution_count": 121,
   "metadata": {},
   "outputs": [
    {
     "data": {
      "image/png": "[encoded data removed]",
      "text/plain": [
       "<Figure size 432x288 with 1 Axes>"
      ]
     },
     "metadata": {
      "needs_background": "light"
     },
     "output_type": "display_data"
    }
   ],
   "source": [
    "date = np.array(BitCoin[2443:]['Date'])\n",
    "x_axis = date\n",
    "plt.plot(x_axis, y_test_invesre, label='Actual')\n",
    "plt.plot(x_axis, y_test_pred_inverse, label='Predicted')\n",
    "plt.tick_params(axis = 'x', labelsize = 6)\n",
    "plt.tick_params(axis = 'y', labelsize = 8)\n",
    "plt.xlabel('Testing Sample Date')\n",
    "plt.ylabel('BitCoin Price $USD')\n",
    "plt.title(\"LSTM Prediction Performance\")\n",
    "plt.legend()\n",
    "plt.show()"
   ]
  },
  {
   "cell_type": "code",
   "execution_count": 119,
   "metadata": {},
   "outputs": [
    {
     "data": {
      "image/png": "[encoded data removed]",
      "text/plain": [
       "<Figure size 432x288 with 1 Axes>"
      ]
     },
     "metadata": {
      "needs_background": "light"
     },
     "output_type": "display_data"
    }
   ],
   "source": [
    "BitCoin['Date']=pd.to_datetime(BitCoin['Date'])\n",
    "date = np.array(BitCoin[2740:2920]['Date'])\n",
    "x_axis = date\n",
    "plt.plot(x_axis, y_test_invesre[300:480], label='Actual')\n",
    "plt.plot(x_axis, y_test_pred_inverse[300:480], label='Predicted')\n",
    "plt.tick_params(axis = 'x', labelsize = 8)\n",
    "plt.tick_params(axis = 'y', labelsize = 8)\n",
    "plt.xlabel('Testing Sample Date')\n",
    "plt.ylabel('BitCoin Price $USD')\n",
    "plt.title(\"LSTM Prediction Performance\")\n",
    "plt.legend()\n",
    "plt.show()"
   ]
  },
  {
   "cell_type": "code",
   "execution_count": null,
   "metadata": {},
   "outputs": [],
   "source": []
  }
 ],
 "metadata": {
  "kernelspec": {
   "display_name": "Python 3",
   "language": "python",
   "name": "python3"
  },
  "language_info": {
   "codemirror_mode": {
    "name": "ipython",
    "version": 3
   },
   "file_extension": ".py",
   "mimetype": "text/x-python",
   "name": "python",
   "nbconvert_exporter": "python",
   "pygments_lexer": "ipython3",
   "version": "3.8.3"
  }
 },
 "nbformat": 4,
 "nbformat_minor": 4
}
