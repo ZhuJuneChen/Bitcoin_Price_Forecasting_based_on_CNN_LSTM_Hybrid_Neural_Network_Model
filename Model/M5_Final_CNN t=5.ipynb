{
 "cells": [
  {
   "cell_type": "code",
   "execution_count": 50,
   "metadata": {},
   "outputs": [],
   "source": [
    "import numpy as np\n",
    "import pandas as pd\n",
    "import matplotlib.pyplot as plt\n",
    "from tensorflow import keras\n",
    "from tensorflow.keras import layers\n",
    "from sklearn.preprocessing import MinMaxScaler\n",
    "from keras import regularizers\n",
    "from torch.utils.data import Dataset, DataLoader\n",
    "from torch import nn, optim\n",
    "import torch\n",
    "import torch.nn.functional as F"
   ]
  },
  {
   "cell_type": "markdown",
   "metadata": {},
   "source": [
    "## Data Pre-processing"
   ]
  },
  {
   "cell_type": "code",
   "execution_count": 51,
   "metadata": {},
   "outputs": [],
   "source": [
    "BitCoin = pd.read_csv('1_Bitcoin.csv')\n",
    "BitCoin=BitCoin.applymap(lambda x: x.replace('$',''))\n",
    "BitCoin=BitCoin.applymap(lambda x: x.replace(',',''))\n",
    "cl = ['Open*', 'High', 'Low', 'Close**', 'Volume', 'Market Cap']\n",
    "for c in cl:\n",
    "    BitCoin[c] = BitCoin[c].astype(float)\n",
    "MarketData = pd.read_excel('MarketData.xlsx') \n",
    "BitCoin['SP500'] = MarketData['S&P_processed'].values\n",
    "# BitCoin = BitCoin[:1460]\n",
    "\n",
    "BitCoin = BitCoin.rename(columns={'Open*': 'Open', 'Close**': 'Close'})\n",
    "data_l = len(BitCoin)\n",
    "BitCoin = BitCoin[data_l::-1]"
   ]
  },
  {
   "cell_type": "code",
   "execution_count": 52,
   "metadata": {},
   "outputs": [
    {
     "data": {
      "text/html": [
       "<div>\n",
       "<style scoped>\n",
       "    .dataframe tbody tr th:only-of-type {\n",
       "        vertical-align: middle;\n",
       "    }\n",
       "\n",
       "    .dataframe tbody tr th {\n",
       "        vertical-align: top;\n",
       "    }\n",
       "\n",
       "    .dataframe thead th {\n",
       "        text-align: right;\n",
       "    }\n",
       "</style>\n",
       "<table border=\"1\" class=\"dataframe\">\n",
       "  <thead>\n",
       "    <tr style=\"text-align: right;\">\n",
       "      <th></th>\n",
       "      <th>Date</th>\n",
       "      <th>Open</th>\n",
       "      <th>High</th>\n",
       "      <th>Low</th>\n",
       "      <th>Close</th>\n",
       "      <th>Volume</th>\n",
       "      <th>Market Cap</th>\n",
       "      <th>SP500</th>\n",
       "    </tr>\n",
       "  </thead>\n",
       "  <tbody>\n",
       "    <tr>\n",
       "      <th>3041</th>\n",
       "      <td>Jul 02 2013</td>\n",
       "      <td>88.05</td>\n",
       "      <td>92.30</td>\n",
       "      <td>87.51</td>\n",
       "      <td>90.13</td>\n",
       "      <td>0.0</td>\n",
       "      <td>1.024082e+09</td>\n",
       "      <td>4605.38</td>\n",
       "    </tr>\n",
       "    <tr>\n",
       "      <th>3040</th>\n",
       "      <td>Jul 03 2013</td>\n",
       "      <td>90.40</td>\n",
       "      <td>90.98</td>\n",
       "      <td>76.98</td>\n",
       "      <td>77.53</td>\n",
       "      <td>0.0</td>\n",
       "      <td>8.812331e+08</td>\n",
       "      <td>4596.42</td>\n",
       "    </tr>\n",
       "    <tr>\n",
       "      <th>3039</th>\n",
       "      <td>Jul 04 2013</td>\n",
       "      <td>78.89</td>\n",
       "      <td>83.11</td>\n",
       "      <td>72.00</td>\n",
       "      <td>80.53</td>\n",
       "      <td>0.0</td>\n",
       "      <td>9.156186e+08</td>\n",
       "      <td>4551.68</td>\n",
       "    </tr>\n",
       "  </tbody>\n",
       "</table>\n",
       "</div>"
      ],
      "text/plain": [
       "             Date   Open   High    Low  Close  Volume    Market Cap    SP500\n",
       "3041  Jul 02 2013  88.05  92.30  87.51  90.13     0.0  1.024082e+09  4605.38\n",
       "3040  Jul 03 2013  90.40  90.98  76.98  77.53     0.0  8.812331e+08  4596.42\n",
       "3039  Jul 04 2013  78.89  83.11  72.00  80.53     0.0  9.156186e+08  4551.68"
      ]
     },
     "execution_count": 52,
     "metadata": {},
     "output_type": "execute_result"
    }
   ],
   "source": [
    "BitCoin.head(3)"
   ]
  },
  {
   "cell_type": "code",
   "execution_count": 53,
   "metadata": {},
   "outputs": [
    {
     "data": {
      "text/html": [
       "<div>\n",
       "<style scoped>\n",
       "    .dataframe tbody tr th:only-of-type {\n",
       "        vertical-align: middle;\n",
       "    }\n",
       "\n",
       "    .dataframe tbody tr th {\n",
       "        vertical-align: top;\n",
       "    }\n",
       "\n",
       "    .dataframe thead th {\n",
       "        text-align: right;\n",
       "    }\n",
       "</style>\n",
       "<table border=\"1\" class=\"dataframe\">\n",
       "  <thead>\n",
       "    <tr style=\"text-align: right;\">\n",
       "      <th></th>\n",
       "      <th>Date</th>\n",
       "      <th>Open</th>\n",
       "      <th>High</th>\n",
       "      <th>Low</th>\n",
       "      <th>Close</th>\n",
       "      <th>Volume</th>\n",
       "      <th>Market Cap</th>\n",
       "      <th>SP500</th>\n",
       "    </tr>\n",
       "  </thead>\n",
       "  <tbody>\n",
       "    <tr>\n",
       "      <th>4</th>\n",
       "      <td>Oct 25 2021</td>\n",
       "      <td>60893.93</td>\n",
       "      <td>63729.33</td>\n",
       "      <td>60691.80</td>\n",
       "      <td>63039.83</td>\n",
       "      <td>3.106491e+10</td>\n",
       "      <td>1.188575e+12</td>\n",
       "      <td>1631.89</td>\n",
       "    </tr>\n",
       "    <tr>\n",
       "      <th>3</th>\n",
       "      <td>Oct 26 2021</td>\n",
       "      <td>63032.76</td>\n",
       "      <td>63229.03</td>\n",
       "      <td>59991.16</td>\n",
       "      <td>60363.79</td>\n",
       "      <td>3.487897e+10</td>\n",
       "      <td>1.138178e+12</td>\n",
       "      <td>1631.89</td>\n",
       "    </tr>\n",
       "    <tr>\n",
       "      <th>2</th>\n",
       "      <td>Oct 27 2021</td>\n",
       "      <td>60352.00</td>\n",
       "      <td>61435.18</td>\n",
       "      <td>58208.19</td>\n",
       "      <td>58482.39</td>\n",
       "      <td>4.365708e+10</td>\n",
       "      <td>1.102758e+12</td>\n",
       "      <td>1615.41</td>\n",
       "    </tr>\n",
       "    <tr>\n",
       "      <th>1</th>\n",
       "      <td>Oct 28 2021</td>\n",
       "      <td>58470.73</td>\n",
       "      <td>62128.63</td>\n",
       "      <td>58206.92</td>\n",
       "      <td>60622.14</td>\n",
       "      <td>4.525708e+10</td>\n",
       "      <td>1.143166e+12</td>\n",
       "      <td>1615.41</td>\n",
       "    </tr>\n",
       "    <tr>\n",
       "      <th>0</th>\n",
       "      <td>Oct 29 2021</td>\n",
       "      <td>60624.87</td>\n",
       "      <td>62927.61</td>\n",
       "      <td>60329.97</td>\n",
       "      <td>62227.96</td>\n",
       "      <td>3.685688e+10</td>\n",
       "      <td>1.173512e+12</td>\n",
       "      <td>1614.08</td>\n",
       "    </tr>\n",
       "  </tbody>\n",
       "</table>\n",
       "</div>"
      ],
      "text/plain": [
       "          Date      Open      High       Low     Close        Volume  \\\n",
       "4  Oct 25 2021  60893.93  63729.33  60691.80  63039.83  3.106491e+10   \n",
       "3  Oct 26 2021  63032.76  63229.03  59991.16  60363.79  3.487897e+10   \n",
       "2  Oct 27 2021  60352.00  61435.18  58208.19  58482.39  4.365708e+10   \n",
       "1  Oct 28 2021  58470.73  62128.63  58206.92  60622.14  4.525708e+10   \n",
       "0  Oct 29 2021  60624.87  62927.61  60329.97  62227.96  3.685688e+10   \n",
       "\n",
       "     Market Cap    SP500  \n",
       "4  1.188575e+12  1631.89  \n",
       "3  1.138178e+12  1631.89  \n",
       "2  1.102758e+12  1615.41  \n",
       "1  1.143166e+12  1615.41  \n",
       "0  1.173512e+12  1614.08  "
      ]
     },
     "execution_count": 53,
     "metadata": {},
     "output_type": "execute_result"
    }
   ],
   "source": [
    "BitCoin.tail()"
   ]
  },
  {
   "cell_type": "code",
   "execution_count": 54,
   "metadata": {},
   "outputs": [
    {
     "data": {
      "text/plain": [
       "Index(['Date', 'Open', 'High', 'Low', 'Close', 'Volume', 'Market Cap',\n",
       "       'SP500'],\n",
       "      dtype='object')"
      ]
     },
     "execution_count": 54,
     "metadata": {},
     "output_type": "execute_result"
    }
   ],
   "source": [
    "BitCoin.columns"
   ]
  },
  {
   "cell_type": "code",
   "execution_count": 55,
   "metadata": {},
   "outputs": [],
   "source": [
    "# Data = BitCoin[['Close','Open','High', 'Low', 'Volume','SP500']]\n",
    "Data = BitCoin[['Close','Open','High', 'Low', 'Volume']]\n",
    "in_dim = len(Data.columns)\n",
    "# Time series length\n",
    "time_stamp = 5 \n",
    "\n",
    "# Seperate training, validating, testing dataset\n",
    "P = BitCoin[['Close','High', 'Low', 'Volume']]\n",
    "split_1 = int(len(Data) * 0.6)\n",
    "split_2 = int(len(Data) *0.8)\n",
    "\n",
    "train = Data[0:split_1+time_stamp]\n",
    "valid = Data[split_1:split_2 + time_stamp]\n",
    "test = Data[split_2 :]"
   ]
  },
  {
   "cell_type": "code",
   "execution_count": 56,
   "metadata": {},
   "outputs": [],
   "source": [
    "# Normalization\n",
    "\n",
    "scaler = MinMaxScaler()\n",
    "\n",
    "def data_processing(data, time_stamp):\n",
    "    min_ = data['Close'].min()\n",
    "    max_ = data['Close'].max()\n",
    "    scaled_data = scaler.fit_transform(data)\n",
    "    x, y = [], []\n",
    "    for i in range(time_stamp, len(data)-time_stamp):\n",
    "        x.append(scaled_data[i-time_stamp:i,:])\n",
    "        y.append(scaled_data[i,0])\n",
    "    x, y = np.array(x), np.array(y)\n",
    "    x = np.reshape(x, (x.shape[0], x.shape[1], in_dim))\n",
    "#     print(x.shape)\n",
    "#     print(y.shape)\n",
    "    return x,y,max_,min_\n",
    "\n",
    "x_train, y_train, max_train, min_train = data_processing(train, time_stamp)\n",
    "x_valid, y_valid,max_valid, min_valid  = data_processing(valid, time_stamp)\n",
    "x_test, y_test,max_test, min_test   = data_processing(test, time_stamp)"
   ]
  },
  {
   "cell_type": "code",
   "execution_count": 57,
   "metadata": {},
   "outputs": [],
   "source": [
    "# Build function to make dataset for pytorch\n",
    "class PriceDataset(Dataset):\n",
    "    def __init__(self,x_train,y_train):\n",
    "        self.x_train = x_train\n",
    "        self.y_train = y_train\n",
    "        \n",
    "    def __len__(self):\n",
    "        return len(x_train)\n",
    "    \n",
    "    def __getitem__(self, index):\n",
    "        return x_train[index], y_train[index]\n",
    "\n",
    "def makeloader(dataset,batch_size):\n",
    "    \n",
    "    loader = DataLoader(dataset, batch_size, shuffle = True)\n",
    "    return loader"
   ]
  },
  {
   "cell_type": "code",
   "execution_count": 58,
   "metadata": {
    "scrolled": true
   },
   "outputs": [
    {
     "name": "stdout",
     "output_type": "stream",
     "text": [
      "tensor([0.0266, 0.0261, 0.0256, 0.0269, 0.0030], dtype=torch.float64)\n",
      "torch.Size([32])\n"
     ]
    },
    {
     "data": {
      "text/plain": [
       "(1820, 5, 5)"
      ]
     },
     "execution_count": 58,
     "metadata": {},
     "output_type": "execute_result"
    }
   ],
   "source": [
    "# Make dataset\n",
    "batch_size = 32\n",
    "\n",
    "dataset =  PriceDataset(x_train, y_train)\n",
    "loader = makeloader(dataset, batch_size)\n",
    "\n",
    "val_dataset =  PriceDataset(x_valid, y_valid)\n",
    "val_loader = makeloader(val_dataset, batch_size)\n",
    "\n",
    "test_dataset =  PriceDataset(x_test, y_test)\n",
    "test_loader = makeloader(test_dataset, batch_size)\n",
    "\n",
    "\n",
    "# TESTING\n",
    "for batch_x, batch_y in loader:\n",
    "    print(batch_x[0][0])\n",
    "    print(batch_y.shape)\n",
    "    break\n",
    "    \n",
    "dataset.x_train.shape"
   ]
  },
  {
   "cell_type": "markdown",
   "metadata": {},
   "source": [
    "## Model"
   ]
  },
  {
   "cell_type": "code",
   "execution_count": 59,
   "metadata": {
    "scrolled": false
   },
   "outputs": [],
   "source": [
    "# Building the Hybrid model\n",
    "class CNN(nn.Module):\n",
    "\n",
    "    def __init__(self, input_dim,hidden_dim,out_dim):\n",
    "        super(CNN, self).__init__()\n",
    "        self.hidden_dim = hidden_dim\n",
    "        self.cov_1 = nn.Conv1d(input_dim,64,1)     #CONV1D\n",
    "        self.incept_1 = nn.Conv1d(64, 64, 1) # inception layers\n",
    "        self.incept_2 = nn.Conv1d(64, 64, 3) # inception layers\n",
    "        self.incept_3 = nn.Conv1d(64, 64, 5) # inception layers\n",
    "        self.fc1 = nn.Linear(64,448) # FC\n",
    "        self.fc2 = nn.Linear(448,32) # FC\n",
    "        self.fc3 = nn.Linear(32, 16) # FC\n",
    "        self.fc4 = nn.Linear(16, 1) # FC\n",
    "    def forward(self, x_train):\n",
    "        #       CONV1D  \n",
    "        conv_1 = F.relu(self.cov_1(x_train.permute(0,2,1)))\n",
    "        #       INCEPTION Layer (GOOGLENET)\n",
    "        incept_1 = F.relu(self.incept_1(conv_1))\n",
    "        incept_2 = F.relu(self.incept_2(conv_1))\n",
    "        incept_3 = F.relu(self.incept_3(conv_1))\n",
    "        cat = torch.cat((conv_1,incept_1, incept_2, incept_3), 2)\n",
    "        #       Fully Connected Layers\n",
    "        fc_out1 =  self.fc1(cat.permute(0,2,1))\n",
    "        fc_out2=  self.fc2(fc_out1)\n",
    "        fc_out3 =  self.fc3(fc_out2)\n",
    "        out =  self.fc4(fc_out3 )\n",
    "        return out"
   ]
  },
  {
   "cell_type": "code",
   "execution_count": 60,
   "metadata": {},
   "outputs": [
    {
     "name": "stdout",
     "output_type": "stream",
     "text": [
      "CNN(\n",
      "  (cov_1): Conv1d(5, 64, kernel_size=(1,), stride=(1,))\n",
      "  (incept_1): Conv1d(64, 64, kernel_size=(1,), stride=(1,))\n",
      "  (incept_2): Conv1d(64, 64, kernel_size=(3,), stride=(1,))\n",
      "  (incept_3): Conv1d(64, 64, kernel_size=(5,), stride=(1,))\n",
      "  (fc1): Linear(in_features=64, out_features=448, bias=True)\n",
      "  (fc2): Linear(in_features=448, out_features=32, bias=True)\n",
      "  (fc3): Linear(in_features=32, out_features=16, bias=True)\n",
      "  (fc4): Linear(in_features=16, out_features=1, bias=True)\n",
      ")\n"
     ]
    }
   ],
   "source": [
    "model=CNN(in_dim,64,1)\n",
    "print(model)\n",
    "loss_function = nn.MSELoss()\n",
    "optimizer = optim.Adam(model.parameters(), lr=1e-4)"
   ]
  },
  {
   "cell_type": "code",
   "execution_count": 61,
   "metadata": {
    "scrolled": true
   },
   "outputs": [
    {
     "name": "stderr",
     "output_type": "stream",
     "text": [
      "<ipython-input-61-1a31da8a1340>:13: UserWarning: To copy construct from a tensor, it is recommended to use sourceTensor.clone().detach() or sourceTensor.clone().detach().requires_grad_(True), rather than torch.tensor(sourceTensor).\n",
      "  out = model(torch.tensor(batch_x).float())[:,-1,:].reshape(-1) # Run forward pass.\n",
      "<ipython-input-61-1a31da8a1340>:28: UserWarning: To copy construct from a tensor, it is recommended to use sourceTensor.clone().detach() or sourceTensor.clone().detach().requires_grad_(True), rather than torch.tensor(sourceTensor).\n",
      "  out = model(torch.tensor(batch_x).float())\n"
     ]
    },
    {
     "name": "stdout",
     "output_type": "stream",
     "text": [
      "Iter 1 ,Train MAPE: 2.23744, Valid MAPE: 0.15718\n",
      "Iter 2 ,Train MAPE: 0.59920, Valid MAPE: 0.15132\n",
      "Iter 3 ,Train MAPE: 0.52990, Valid MAPE: 0.15412\n",
      "Iter 4 ,Train MAPE: 0.41402, Valid MAPE: 0.16281\n",
      "Iter 5 ,Train MAPE: 0.19795, Valid MAPE: 0.17581\n",
      "Iter 6 ,Train MAPE: 0.11756, Valid MAPE: 0.17096\n",
      "Iter 7 ,Train MAPE: 0.09631, Valid MAPE: 0.16773\n",
      "Iter 8 ,Train MAPE: 0.09026, Valid MAPE: 0.16902\n",
      "Iter 9 ,Train MAPE: 0.07653, Valid MAPE: 0.16647\n",
      "Iter 10 ,Train MAPE: 0.06268, Valid MAPE: 0.16647\n",
      "Iter 11 ,Train MAPE: 0.07594, Valid MAPE: 0.16615\n",
      "Iter 12 ,Train MAPE: 0.07414, Valid MAPE: 0.16634\n",
      "Iter 13 ,Train MAPE: 0.07661, Valid MAPE: 0.16550\n",
      "Iter 14 ,Train MAPE: 0.07856, Valid MAPE: 0.16648\n",
      "Iter 15 ,Train MAPE: 0.07127, Valid MAPE: 0.16653\n",
      "Iter 16 ,Train MAPE: 0.09185, Valid MAPE: 0.16612\n",
      "Iter 17 ,Train MAPE: 0.06873, Valid MAPE: 0.16509\n",
      "Iter 18 ,Train MAPE: 0.06182, Valid MAPE: 0.16677\n",
      "Iter 19 ,Train MAPE: 0.08280, Valid MAPE: 0.16508\n",
      "Iter 20 ,Train MAPE: 0.07420, Valid MAPE: 0.16483\n",
      "Iter 21 ,Train MAPE: 0.06965, Valid MAPE: 0.16729\n",
      "Iter 22 ,Train MAPE: 0.14970, Valid MAPE: 0.16601\n",
      "Iter 23 ,Train MAPE: 0.07790, Valid MAPE: 0.16452\n",
      "Iter 24 ,Train MAPE: 0.06268, Valid MAPE: 0.16453\n",
      "Iter 25 ,Train MAPE: 0.06509, Valid MAPE: 0.16460\n",
      "Iter 26 ,Train MAPE: 0.06707, Valid MAPE: 0.16431\n",
      "Iter 27 ,Train MAPE: 0.06960, Valid MAPE: 0.16443\n",
      "Iter 28 ,Train MAPE: 0.06624, Valid MAPE: 0.16407\n",
      "Iter 29 ,Train MAPE: 0.08623, Valid MAPE: 0.16450\n",
      "Iter 30 ,Train MAPE: 0.06487, Valid MAPE: 0.16332\n",
      "Iter 31 ,Train MAPE: 0.07451, Valid MAPE: 0.16396\n",
      "Iter 32 ,Train MAPE: 0.05695, Valid MAPE: 0.16504\n",
      "Iter 33 ,Train MAPE: 0.06272, Valid MAPE: 0.16547\n",
      "Iter 34 ,Train MAPE: 0.06186, Valid MAPE: 0.16484\n",
      "Iter 35 ,Train MAPE: 0.06639, Valid MAPE: 0.16651\n",
      "Iter 36 ,Train MAPE: 0.09819, Valid MAPE: 0.16562\n",
      "Iter 37 ,Train MAPE: 0.07990, Valid MAPE: 0.16439\n",
      "Iter 38 ,Train MAPE: 0.05952, Valid MAPE: 0.16671\n",
      "Iter 39 ,Train MAPE: 0.05829, Valid MAPE: 0.16583\n",
      "Iter 40 ,Train MAPE: 0.07067, Valid MAPE: 0.16568\n",
      "Iter 41 ,Train MAPE: 0.06486, Valid MAPE: 0.16651\n",
      "Iter 42 ,Train MAPE: 0.06706, Valid MAPE: 0.16770\n",
      "Iter 43 ,Train MAPE: 0.07017, Valid MAPE: 0.16651\n",
      "Iter 44 ,Train MAPE: 0.06098, Valid MAPE: 0.16660\n",
      "Iter 45 ,Train MAPE: 0.07249, Valid MAPE: 0.16640\n",
      "Iter 46 ,Train MAPE: 0.05991, Valid MAPE: 0.16634\n",
      "Iter 47 ,Train MAPE: 0.05249, Valid MAPE: 0.16744\n",
      "Iter 48 ,Train MAPE: 0.07741, Valid MAPE: 0.16726\n",
      "Iter 49 ,Train MAPE: 0.07014, Valid MAPE: 0.16652\n",
      "Iter 50 ,Train MAPE: 0.06169, Valid MAPE: 0.16692\n",
      "Iter 51 ,Train MAPE: 0.05750, Valid MAPE: 0.16885\n",
      "Iter 52 ,Train MAPE: 0.06520, Valid MAPE: 0.16765\n",
      "Iter 53 ,Train MAPE: 0.10714, Valid MAPE: 0.16802\n",
      "Iter 54 ,Train MAPE: 0.05403, Valid MAPE: 0.16697\n",
      "Iter 55 ,Train MAPE: 0.04782, Valid MAPE: 0.16717\n",
      "Iter 56 ,Train MAPE: 0.06250, Valid MAPE: 0.16722\n",
      "Iter 57 ,Train MAPE: 0.05969, Valid MAPE: 0.16676\n",
      "Iter 58 ,Train MAPE: 0.06115, Valid MAPE: 0.16672\n",
      "Iter 59 ,Train MAPE: 0.05524, Valid MAPE: 0.16716\n",
      "Iter 60 ,Train MAPE: 0.07083, Valid MAPE: 0.16829\n",
      "Iter 61 ,Train MAPE: 0.05684, Valid MAPE: 0.16720\n",
      "Iter 62 ,Train MAPE: 0.05595, Valid MAPE: 0.16889\n",
      "Iter 63 ,Train MAPE: 0.05749, Valid MAPE: 0.16758\n",
      "Iter 64 ,Train MAPE: 0.05043, Valid MAPE: 0.16859\n",
      "Iter 65 ,Train MAPE: 0.06406, Valid MAPE: 0.16786\n",
      "Iter 66 ,Train MAPE: 0.05344, Valid MAPE: 0.16870\n",
      "Iter 67 ,Train MAPE: 0.05312, Valid MAPE: 0.16848\n",
      "Iter 68 ,Train MAPE: 0.06603, Valid MAPE: 0.16719\n",
      "Iter 69 ,Train MAPE: 0.06210, Valid MAPE: 0.16907\n",
      "Iter 70 ,Train MAPE: 0.06060, Valid MAPE: 0.16722\n",
      "Iter 71 ,Train MAPE: 0.06561, Valid MAPE: 0.16777\n",
      "Iter 72 ,Train MAPE: 0.05379, Valid MAPE: 0.16887\n",
      "Iter 73 ,Train MAPE: 0.06239, Valid MAPE: 0.16823\n",
      "Iter 74 ,Train MAPE: 0.05709, Valid MAPE: 0.16863\n",
      "Iter 75 ,Train MAPE: 0.07535, Valid MAPE: 0.17046\n",
      "Iter 76 ,Train MAPE: 0.07439, Valid MAPE: 0.16944\n",
      "Iter 77 ,Train MAPE: 0.05895, Valid MAPE: 0.16808\n",
      "Iter 78 ,Train MAPE: 0.06277, Valid MAPE: 0.16839\n",
      "Iter 79 ,Train MAPE: 0.06340, Valid MAPE: 0.16905\n",
      "Iter 80 ,Train MAPE: 0.05431, Valid MAPE: 0.16933\n",
      "Iter 81 ,Train MAPE: 0.05259, Valid MAPE: 0.16904\n",
      "Iter 82 ,Train MAPE: 0.05879, Valid MAPE: 0.16971\n",
      "Iter 83 ,Train MAPE: 0.05272, Valid MAPE: 0.16970\n",
      "Iter 84 ,Train MAPE: 0.05970, Valid MAPE: 0.17049\n",
      "Iter 85 ,Train MAPE: 0.04573, Valid MAPE: 0.16909\n",
      "Iter 86 ,Train MAPE: 0.05453, Valid MAPE: 0.17201\n",
      "Iter 87 ,Train MAPE: 0.05241, Valid MAPE: 0.17059\n",
      "Iter 88 ,Train MAPE: 0.07421, Valid MAPE: 0.16945\n",
      "Iter 89 ,Train MAPE: 0.04795, Valid MAPE: 0.16923\n",
      "Iter 90 ,Train MAPE: 0.06071, Valid MAPE: 0.16925\n",
      "Iter 91 ,Train MAPE: 0.05791, Valid MAPE: 0.16971\n",
      "Iter 92 ,Train MAPE: 0.06677, Valid MAPE: 0.16965\n",
      "Iter 93 ,Train MAPE: 0.05409, Valid MAPE: 0.17022\n",
      "Iter 94 ,Train MAPE: 0.05584, Valid MAPE: 0.16972\n",
      "Iter 95 ,Train MAPE: 0.05107, Valid MAPE: 0.16819\n",
      "Iter 96 ,Train MAPE: 0.06751, Valid MAPE: 0.16960\n",
      "Iter 97 ,Train MAPE: 0.05594, Valid MAPE: 0.16975\n",
      "Iter 98 ,Train MAPE: 0.05376, Valid MAPE: 0.16883\n",
      "Iter 99 ,Train MAPE: 0.06105, Valid MAPE: 0.16925\n",
      "Iter 100 ,Train MAPE: 0.06192, Valid MAPE: 0.16835\n",
      "Iter 101 ,Train MAPE: 0.05497, Valid MAPE: 0.16944\n",
      "Iter 102 ,Train MAPE: 0.04896, Valid MAPE: 0.16976\n",
      "Iter 103 ,Train MAPE: 0.04469, Valid MAPE: 0.16988\n",
      "Iter 104 ,Train MAPE: 0.06430, Valid MAPE: 0.17105\n",
      "Iter 105 ,Train MAPE: 0.05657, Valid MAPE: 0.16907\n",
      "Iter 106 ,Train MAPE: 0.07022, Valid MAPE: 0.16891\n",
      "Iter 107 ,Train MAPE: 0.05775, Valid MAPE: 0.16976\n",
      "Iter 108 ,Train MAPE: 0.05849, Valid MAPE: 0.16882\n",
      "Iter 109 ,Train MAPE: 0.05708, Valid MAPE: 0.16895\n",
      "Iter 110 ,Train MAPE: 0.05118, Valid MAPE: 0.16900\n",
      "Iter 111 ,Train MAPE: 0.08784, Valid MAPE: 0.16890\n",
      "Iter 112 ,Train MAPE: 0.06448, Valid MAPE: 0.16949\n",
      "Iter 113 ,Train MAPE: 0.05200, Valid MAPE: 0.16910\n",
      "Iter 114 ,Train MAPE: 0.04963, Valid MAPE: 0.16870\n",
      "Iter 115 ,Train MAPE: 0.06301, Valid MAPE: 0.16782\n",
      "Iter 116 ,Train MAPE: 0.05931, Valid MAPE: 0.16908\n",
      "Iter 117 ,Train MAPE: 0.05184, Valid MAPE: 0.16954\n",
      "Iter 118 ,Train MAPE: 0.04946, Valid MAPE: 0.16998\n",
      "Iter 119 ,Train MAPE: 0.07061, Valid MAPE: 0.16883\n",
      "Iter 120 ,Train MAPE: 0.05161, Valid MAPE: 0.16971\n",
      "Iter 121 ,Train MAPE: 0.05592, Valid MAPE: 0.16839\n",
      "Iter 122 ,Train MAPE: 0.06769, Valid MAPE: 0.16924\n",
      "Iter 123 ,Train MAPE: 0.05085, Valid MAPE: 0.16860\n",
      "Iter 124 ,Train MAPE: 0.04914, Valid MAPE: 0.16965\n",
      "Iter 125 ,Train MAPE: 0.07795, Valid MAPE: 0.16929\n",
      "Iter 126 ,Train MAPE: 0.06118, Valid MAPE: 0.16818\n",
      "Iter 127 ,Train MAPE: 0.04846, Valid MAPE: 0.16827\n",
      "Iter 128 ,Train MAPE: 0.06261, Valid MAPE: 0.16851\n",
      "Iter 129 ,Train MAPE: 0.05660, Valid MAPE: 0.16873\n",
      "Iter 130 ,Train MAPE: 0.05390, Valid MAPE: 0.16755\n",
      "Iter 131 ,Train MAPE: 0.05285, Valid MAPE: 0.16895\n",
      "Iter 132 ,Train MAPE: 0.05159, Valid MAPE: 0.16791\n",
      "Iter 133 ,Train MAPE: 0.05148, Valid MAPE: 0.16908\n",
      "Iter 134 ,Train MAPE: 0.05531, Valid MAPE: 0.16921\n",
      "Iter 135 ,Train MAPE: 0.04809, Valid MAPE: 0.16870\n",
      "Iter 136 ,Train MAPE: 0.04764, Valid MAPE: 0.16933\n",
      "Iter 137 ,Train MAPE: 0.05535, Valid MAPE: 0.16895\n",
      "Iter 138 ,Train MAPE: 0.07994, Valid MAPE: 0.16966\n",
      "Iter 139 ,Train MAPE: 0.06484, Valid MAPE: 0.16886\n",
      "Iter 140 ,Train MAPE: 0.05169, Valid MAPE: 0.16811\n",
      "Iter 141 ,Train MAPE: 0.05086, Valid MAPE: 0.16787\n",
      "Iter 142 ,Train MAPE: 0.06595, Valid MAPE: 0.16835\n",
      "Iter 143 ,Train MAPE: 0.05770, Valid MAPE: 0.16859\n",
      "Iter 144 ,Train MAPE: 0.05011, Valid MAPE: 0.16810\n",
      "Iter 145 ,Train MAPE: 0.04440, Valid MAPE: 0.16833\n",
      "Iter 146 ,Train MAPE: 0.05754, Valid MAPE: 0.16837\n",
      "Iter 147 ,Train MAPE: 0.04503, Valid MAPE: 0.16861\n",
      "Iter 148 ,Train MAPE: 0.05393, Valid MAPE: 0.16786\n",
      "Iter 149 ,Train MAPE: 0.05354, Valid MAPE: 0.16931\n",
      "Iter 150 ,Train MAPE: 0.04896, Valid MAPE: 0.16737\n",
      "Iter 151 ,Train MAPE: 0.05426, Valid MAPE: 0.16845\n",
      "Iter 152 ,Train MAPE: 0.05364, Valid MAPE: 0.16863\n",
      "Iter 153 ,Train MAPE: 0.04735, Valid MAPE: 0.16914\n",
      "Iter 154 ,Train MAPE: 0.04586, Valid MAPE: 0.16877\n",
      "Iter 155 ,Train MAPE: 0.05432, Valid MAPE: 0.16853\n",
      "Iter 156 ,Train MAPE: 0.05399, Valid MAPE: 0.16839\n",
      "Iter 157 ,Train MAPE: 0.05830, Valid MAPE: 0.16655\n",
      "Iter 158 ,Train MAPE: 0.07349, Valid MAPE: 0.16895\n",
      "Iter 159 ,Train MAPE: 0.06527, Valid MAPE: 0.16765\n",
      "Iter 160 ,Train MAPE: 0.06706, Valid MAPE: 0.16694\n",
      "Iter 161 ,Train MAPE: 0.06808, Valid MAPE: 0.16785\n",
      "Iter 162 ,Train MAPE: 0.05289, Valid MAPE: 0.16643\n",
      "Iter 163 ,Train MAPE: 0.04595, Valid MAPE: 0.16768\n"
     ]
    },
    {
     "name": "stdout",
     "output_type": "stream",
     "text": [
      "Iter 164 ,Train MAPE: 0.04784, Valid MAPE: 0.16915\n",
      "Iter 165 ,Train MAPE: 0.04947, Valid MAPE: 0.16731\n",
      "Iter 166 ,Train MAPE: 0.05402, Valid MAPE: 0.16761\n",
      "Iter 167 ,Train MAPE: 0.05002, Valid MAPE: 0.16769\n",
      "Iter 168 ,Train MAPE: 0.05357, Valid MAPE: 0.16808\n",
      "Iter 169 ,Train MAPE: 0.05134, Valid MAPE: 0.16843\n",
      "Iter 170 ,Train MAPE: 0.05255, Valid MAPE: 0.16874\n",
      "Iter 171 ,Train MAPE: 0.04650, Valid MAPE: 0.16738\n",
      "Iter 172 ,Train MAPE: 0.05045, Valid MAPE: 0.16837\n",
      "Iter 173 ,Train MAPE: 0.04937, Valid MAPE: 0.16812\n",
      "Iter 174 ,Train MAPE: 0.05632, Valid MAPE: 0.16755\n",
      "Iter 175 ,Train MAPE: 0.05064, Valid MAPE: 0.16791\n",
      "Iter 176 ,Train MAPE: 0.05035, Valid MAPE: 0.16778\n",
      "Iter 177 ,Train MAPE: 0.05323, Valid MAPE: 0.16746\n",
      "Iter 178 ,Train MAPE: 0.04961, Valid MAPE: 0.16760\n",
      "Iter 179 ,Train MAPE: 0.05473, Valid MAPE: 0.16850\n",
      "Iter 180 ,Train MAPE: 0.05239, Valid MAPE: 0.16862\n",
      "Iter 181 ,Train MAPE: 0.05394, Valid MAPE: 0.16741\n",
      "Iter 182 ,Train MAPE: 0.05042, Valid MAPE: 0.16487\n",
      "Iter 183 ,Train MAPE: 0.06010, Valid MAPE: 0.16589\n",
      "Iter 184 ,Train MAPE: 0.05243, Valid MAPE: 0.16625\n",
      "Iter 185 ,Train MAPE: 0.05418, Valid MAPE: 0.16587\n",
      "Iter 186 ,Train MAPE: 0.05212, Valid MAPE: 0.16544\n",
      "Iter 187 ,Train MAPE: 0.04891, Valid MAPE: 0.16561\n",
      "Iter 188 ,Train MAPE: 0.05576, Valid MAPE: 0.16522\n",
      "Iter 189 ,Train MAPE: 0.05155, Valid MAPE: 0.16586\n",
      "Iter 190 ,Train MAPE: 0.04455, Valid MAPE: 0.16549\n",
      "Iter 191 ,Train MAPE: 0.04814, Valid MAPE: 0.16440\n",
      "Iter 192 ,Train MAPE: 0.05231, Valid MAPE: 0.16682\n",
      "Iter 193 ,Train MAPE: 0.04990, Valid MAPE: 0.16613\n",
      "Iter 194 ,Train MAPE: 0.06117, Valid MAPE: 0.16494\n",
      "Iter 195 ,Train MAPE: 0.04904, Valid MAPE: 0.16505\n",
      "Iter 196 ,Train MAPE: 0.06651, Valid MAPE: 0.16493\n",
      "Iter 197 ,Train MAPE: 0.04826, Valid MAPE: 0.16517\n",
      "Iter 198 ,Train MAPE: 0.04204, Valid MAPE: 0.16511\n",
      "Iter 199 ,Train MAPE: 0.04651, Valid MAPE: 0.16533\n",
      "Iter 200 ,Train MAPE: 0.06172, Valid MAPE: 0.16479\n",
      "Iter 201 ,Train MAPE: 0.04982, Valid MAPE: 0.16392\n",
      "Iter 202 ,Train MAPE: 0.04324, Valid MAPE: 0.16454\n",
      "Iter 203 ,Train MAPE: 0.05249, Valid MAPE: 0.16424\n",
      "Iter 204 ,Train MAPE: 0.05216, Valid MAPE: 0.16468\n",
      "Iter 205 ,Train MAPE: 0.04518, Valid MAPE: 0.16527\n",
      "Iter 206 ,Train MAPE: 0.04422, Valid MAPE: 0.16491\n",
      "Iter 207 ,Train MAPE: 0.05237, Valid MAPE: 0.16548\n",
      "Iter 208 ,Train MAPE: 0.04587, Valid MAPE: 0.16544\n",
      "Iter 209 ,Train MAPE: 0.05801, Valid MAPE: 0.16403\n",
      "Iter 210 ,Train MAPE: 0.05370, Valid MAPE: 0.16558\n",
      "Iter 211 ,Train MAPE: 0.05757, Valid MAPE: 0.16529\n",
      "Iter 212 ,Train MAPE: 0.05027, Valid MAPE: 0.16454\n",
      "Iter 213 ,Train MAPE: 0.05133, Valid MAPE: 0.16405\n",
      "Iter 214 ,Train MAPE: 0.04457, Valid MAPE: 0.16526\n",
      "Iter 215 ,Train MAPE: 0.04714, Valid MAPE: 0.16494\n",
      "Iter 216 ,Train MAPE: 0.04608, Valid MAPE: 0.16477\n",
      "Iter 217 ,Train MAPE: 0.06034, Valid MAPE: 0.16346\n",
      "Iter 218 ,Train MAPE: 0.04737, Valid MAPE: 0.16530\n",
      "Iter 219 ,Train MAPE: 0.04670, Valid MAPE: 0.16547\n",
      "Iter 220 ,Train MAPE: 0.04672, Valid MAPE: 0.16496\n",
      "Iter 221 ,Train MAPE: 0.04435, Valid MAPE: 0.16524\n",
      "Iter 222 ,Train MAPE: 0.04547, Valid MAPE: 0.16603\n",
      "Iter 223 ,Train MAPE: 0.04976, Valid MAPE: 0.16570\n",
      "Iter 224 ,Train MAPE: 0.06105, Valid MAPE: 0.16596\n",
      "Iter 225 ,Train MAPE: 0.05375, Valid MAPE: 0.16529\n",
      "Iter 226 ,Train MAPE: 0.04267, Valid MAPE: 0.16558\n",
      "Iter 227 ,Train MAPE: 0.04694, Valid MAPE: 0.16579\n",
      "Iter 228 ,Train MAPE: 0.05191, Valid MAPE: 0.16567\n",
      "Iter 229 ,Train MAPE: 0.05272, Valid MAPE: 0.16499\n",
      "Iter 230 ,Train MAPE: 0.04573, Valid MAPE: 0.16501\n",
      "Iter 231 ,Train MAPE: 0.04695, Valid MAPE: 0.16541\n",
      "Iter 232 ,Train MAPE: 0.05396, Valid MAPE: 0.16390\n",
      "Iter 233 ,Train MAPE: 0.04354, Valid MAPE: 0.16443\n",
      "Iter 234 ,Train MAPE: 0.04397, Valid MAPE: 0.16467\n",
      "Iter 235 ,Train MAPE: 0.04231, Valid MAPE: 0.16497\n",
      "Iter 236 ,Train MAPE: 0.04474, Valid MAPE: 0.16479\n",
      "Iter 237 ,Train MAPE: 0.04906, Valid MAPE: 0.16427\n",
      "Iter 238 ,Train MAPE: 0.04206, Valid MAPE: 0.16489\n",
      "Iter 239 ,Train MAPE: 0.04346, Valid MAPE: 0.16434\n",
      "Iter 240 ,Train MAPE: 0.06605, Valid MAPE: 0.16493\n",
      "Iter 241 ,Train MAPE: 0.04453, Valid MAPE: 0.16442\n",
      "Iter 242 ,Train MAPE: 0.04310, Valid MAPE: 0.16411\n",
      "Iter 243 ,Train MAPE: 0.06502, Valid MAPE: 0.16401\n",
      "Iter 244 ,Train MAPE: 0.04523, Valid MAPE: 0.16453\n",
      "Iter 245 ,Train MAPE: 0.04704, Valid MAPE: 0.16341\n",
      "Iter 246 ,Train MAPE: 0.04980, Valid MAPE: 0.16304\n",
      "Iter 247 ,Train MAPE: 0.04380, Valid MAPE: 0.16368\n",
      "Iter 248 ,Train MAPE: 0.04580, Valid MAPE: 0.16399\n",
      "Iter 249 ,Train MAPE: 0.04514, Valid MAPE: 0.16361\n",
      "Iter 250 ,Train MAPE: 0.05164, Valid MAPE: 0.16373\n",
      "Iter 251 ,Train MAPE: 0.04669, Valid MAPE: 0.16406\n",
      "Iter 252 ,Train MAPE: 0.08393, Valid MAPE: 0.16458\n",
      "Iter 253 ,Train MAPE: 0.04217, Valid MAPE: 0.16390\n",
      "Iter 254 ,Train MAPE: 0.06588, Valid MAPE: 0.16327\n",
      "Iter 255 ,Train MAPE: 0.04757, Valid MAPE: 0.16399\n",
      "Iter 256 ,Train MAPE: 0.04277, Valid MAPE: 0.16394\n",
      "Iter 257 ,Train MAPE: 0.04801, Valid MAPE: 0.16475\n",
      "Iter 258 ,Train MAPE: 0.04493, Valid MAPE: 0.16347\n",
      "Iter 259 ,Train MAPE: 0.04169, Valid MAPE: 0.16407\n",
      "Iter 260 ,Train MAPE: 0.05589, Valid MAPE: 0.16409\n",
      "Iter 261 ,Train MAPE: 0.04346, Valid MAPE: 0.16379\n",
      "Iter 262 ,Train MAPE: 0.04075, Valid MAPE: 0.16429\n",
      "Iter 263 ,Train MAPE: 0.05013, Valid MAPE: 0.16303\n",
      "Iter 264 ,Train MAPE: 0.04516, Valid MAPE: 0.16337\n",
      "Iter 265 ,Train MAPE: 0.05686, Valid MAPE: 0.16239\n",
      "Iter 266 ,Train MAPE: 0.04848, Valid MAPE: 0.16316\n",
      "Iter 267 ,Train MAPE: 0.04663, Valid MAPE: 0.16226\n",
      "Iter 268 ,Train MAPE: 0.04809, Valid MAPE: 0.16313\n",
      "Iter 269 ,Train MAPE: 0.04839, Valid MAPE: 0.16253\n",
      "Iter 270 ,Train MAPE: 0.04557, Valid MAPE: 0.16229\n",
      "Iter 271 ,Train MAPE: 0.05236, Valid MAPE: 0.16281\n",
      "Iter 272 ,Train MAPE: 0.03968, Valid MAPE: 0.16251\n",
      "Iter 273 ,Train MAPE: 0.04606, Valid MAPE: 0.16184\n",
      "Iter 274 ,Train MAPE: 0.04544, Valid MAPE: 0.16266\n",
      "Iter 275 ,Train MAPE: 0.04377, Valid MAPE: 0.16224\n",
      "Iter 276 ,Train MAPE: 0.04829, Valid MAPE: 0.16168\n",
      "Iter 277 ,Train MAPE: 0.04921, Valid MAPE: 0.16343\n",
      "Iter 278 ,Train MAPE: 0.05349, Valid MAPE: 0.16274\n",
      "Iter 279 ,Train MAPE: 0.04433, Valid MAPE: 0.16214\n",
      "Iter 280 ,Train MAPE: 0.04262, Valid MAPE: 0.16222\n",
      "Iter 281 ,Train MAPE: 0.04067, Valid MAPE: 0.16295\n",
      "Iter 282 ,Train MAPE: 0.04812, Valid MAPE: 0.16246\n",
      "Iter 283 ,Train MAPE: 0.05083, Valid MAPE: 0.16226\n",
      "Iter 284 ,Train MAPE: 0.05009, Valid MAPE: 0.16271\n",
      "Iter 285 ,Train MAPE: 0.04371, Valid MAPE: 0.16272\n",
      "Iter 286 ,Train MAPE: 0.04222, Valid MAPE: 0.16221\n",
      "Iter 287 ,Train MAPE: 0.04947, Valid MAPE: 0.16170\n",
      "Iter 288 ,Train MAPE: 0.04897, Valid MAPE: 0.16303\n",
      "Iter 289 ,Train MAPE: 0.04341, Valid MAPE: 0.16305\n",
      "Iter 290 ,Train MAPE: 0.04405, Valid MAPE: 0.16191\n",
      "Iter 291 ,Train MAPE: 0.04280, Valid MAPE: 0.16205\n",
      "Iter 292 ,Train MAPE: 0.04075, Valid MAPE: 0.16185\n",
      "Iter 293 ,Train MAPE: 0.04398, Valid MAPE: 0.16257\n",
      "Iter 294 ,Train MAPE: 0.04559, Valid MAPE: 0.16256\n",
      "Iter 295 ,Train MAPE: 0.04830, Valid MAPE: 0.16240\n",
      "Iter 296 ,Train MAPE: 0.03997, Valid MAPE: 0.16317\n",
      "Iter 297 ,Train MAPE: 0.04039, Valid MAPE: 0.16321\n",
      "Iter 298 ,Train MAPE: 0.04405, Valid MAPE: 0.16354\n",
      "Iter 299 ,Train MAPE: 0.04718, Valid MAPE: 0.16339\n",
      "Iter 300 ,Train MAPE: 0.04985, Valid MAPE: 0.16324\n"
     ]
    }
   ],
   "source": [
    "epoch = 300\n",
    "\n",
    "# Initialize 2 lists for storing MAPE loss\n",
    "Train_MAPE_list = np.zeros(epoch)\n",
    "Valid_MAPE_list = np.zeros(epoch)\n",
    "\n",
    "for epoch in range(epoch):     \n",
    "       #     ====== TRAIN  ====== #\n",
    "    model.train()\n",
    "    total_loss = []\n",
    "    for batch_x, batch_y in loader:\n",
    "        model.zero_grad() # Clear them out Pytorch accumulated gradients before each instance\n",
    "        out = model(torch.tensor(batch_x).float())[:,-1,:].reshape(-1) # Run forward pass.\n",
    "#         out = model(torch.tensor(batch_x).float()) # Run forward pass.\n",
    "        loss =abs (((out - batch_y.float())*(max_train - min_train))/(batch_y.float()*(max_train - min_train)+min_train))\n",
    "        loss = torch.mean(loss)\n",
    "        loss.backward()\n",
    "        optimizer.step()\n",
    "        total_loss.append(loss)\n",
    "    Train_MAPE = sum(total_loss)/len(total_loss)\n",
    "\n",
    "    #     ====== VALID  ====== #\n",
    "    model.eval()\n",
    "    total_loss = []\n",
    "    for batch_x, batch_y in val_loader:\n",
    "            model.zero_grad()\n",
    "#             out = model(torch.tensor(batch_x).float())[:,-1,:].reshape(-1)\n",
    "            out = model(torch.tensor(batch_x).float())\n",
    "            loss =abs (((out - batch_y.float())*(max_valid- min_valid))/((batch_y.float()*(max_valid - min_valid)+min_valid)))\n",
    "            loss = torch.mean(loss)\n",
    "            total_loss.append(loss)\n",
    "    Valid_MAPE=sum(total_loss)/len(total_loss)\n",
    "    \n",
    "    print(\"Iter %d ,Train MAPE: %.5f, Valid MAPE: %.5f\"%(epoch+1 ,Train_MAPE, Valid_MAPE))\n",
    "    Train_MAPE_list[epoch] = Train_MAPE\n",
    "    Valid_MAPE_list[epoch] = Valid_MAPE"
   ]
  },
  {
   "cell_type": "code",
   "execution_count": 13,
   "metadata": {},
   "outputs": [
    {
     "data": {
      "image/png": "[encoded data removed]",
      "text/plain": [
       "<Figure size 432x288 with 1 Axes>"
      ]
     },
     "metadata": {
      "needs_background": "light"
     },
     "output_type": "display_data"
    }
   ],
   "source": [
    "x_axis = np.arange(50)\n",
    "plt.plot(x_axis, Train_MAPE_list[10:60], label='train MAPE')\n",
    "plt.plot(x_axis, Valid_MAPE_list[10:60], label='val MAPE')\n",
    "plt.legend()\n",
    "plt.show()"
   ]
  },
  {
   "cell_type": "code",
   "execution_count": 14,
   "metadata": {},
   "outputs": [
    {
     "data": {
      "image/png": "[encoded data removed]",
      "text/plain": [
       "<Figure size 432x288 with 1 Axes>"
      ]
     },
     "metadata": {
      "needs_background": "light"
     },
     "output_type": "display_data"
    }
   ],
   "source": [
    "x_axis = np.arange(epoch+1)\n",
    "plt.plot(x_axis, Train_MAPE_list[:], label='train MAPE')\n",
    "plt.plot(x_axis, Valid_MAPE_list[:], label='val MAPE')\n",
    "plt.legend()\n",
    "plt.show()"
   ]
  },
  {
   "cell_type": "code",
   "execution_count": 49,
   "metadata": {
    "scrolled": false
   },
   "outputs": [
    {
     "name": "stdout",
     "output_type": "stream",
     "text": [
      "The mean absolute percentage error for the CNN is: 0.046337\n"
     ]
    }
   ],
   "source": [
    "## test performance on the test set and report final performance\n",
    "X_test_tensor =  torch.tensor(x_test).float()\n",
    "y_test_pred = model(X_test_tensor).float()[:,-1,:].reshape(-1).detach().numpy()\n",
    "y_test_pred_inverse = y_test_pred*(max_test - min_test)+min_test\n",
    "# print(\"shape of test_y_pred:   \",y_test_pred_inverse.shape)\n",
    "y_test_invesre = y_test*(max_test - min_test)+min_test\n",
    "\n",
    "\n",
    "test_MAPE=sum(abs ((y_test_invesre - y_test_pred_inverse)/y_test_invesre))/len(y_test_invesre)\n",
    "print(\"The mean absolute percentage error for the CNN is: %2f\"%test_MAPE)\n"
   ]
  },
  {
   "cell_type": "code",
   "execution_count": null,
   "metadata": {},
   "outputs": [],
   "source": []
  },
  {
   "cell_type": "code",
   "execution_count": 47,
   "metadata": {},
   "outputs": [
    {
     "data": {
      "image/png": "[encoded data removed]",
      "text/plain": [
       "<Figure size 432x288 with 1 Axes>"
      ]
     },
     "metadata": {
      "needs_background": "light"
     },
     "output_type": "display_data"
    }
   ],
   "source": [
    "date = np.array(BitCoin[2443:]['Date'])\n",
    "x_axis = date\n",
    "plt.plot(x_axis, y_test_invesre, label='Actual')\n",
    "plt.plot(x_axis, y_test_pred_inverse, label='Predicted')\n",
    "plt.tick_params(axis = 'x', labelsize = 6)\n",
    "plt.tick_params(axis = 'y', labelsize = 8)\n",
    "plt.xlabel('Testing Sample Date')\n",
    "plt.ylabel('BitCoin Price $USD')\n",
    "plt.title(\"CNN Prediction Performance\")\n",
    "plt.legend()\n",
    "plt.show()"
   ]
  },
  {
   "cell_type": "code",
   "execution_count": 45,
   "metadata": {},
   "outputs": [
    {
     "data": {
      "image/png": "[encoded data removed]",
      "text/plain": [
       "<Figure size 432x288 with 1 Axes>"
      ]
     },
     "metadata": {
      "needs_background": "light"
     },
     "output_type": "display_data"
    }
   ],
   "source": [
    "BitCoin['Date']=pd.to_datetime(BitCoin['Date'])\n",
    "date = np.array(BitCoin[2740:2920]['Date'])\n",
    "x_axis = date\n",
    "plt.plot(x_axis, y_test_invesre[300:480], label='Actual')\n",
    "plt.plot(x_axis, y_test_pred_inverse[300:480], label='Predicted')\n",
    "plt.tick_params(axis = 'x', labelsize = 8)\n",
    "plt.tick_params(axis = 'y', labelsize = 8)\n",
    "plt.xlabel('Testing Sample Date')\n",
    "plt.ylabel('BitCoin Price $USD')\n",
    "plt.title(\"CNN Prediction Performance\")\n",
    "plt.legend()\n",
    "plt.show()\n"
   ]
  },
  {
   "cell_type": "code",
   "execution_count": null,
   "metadata": {},
   "outputs": [],
   "source": []
  },
  {
   "cell_type": "code",
   "execution_count": null,
   "metadata": {},
   "outputs": [],
   "source": []
  }
 ],
 "metadata": {
  "kernelspec": {
   "display_name": "Python 3",
   "language": "python",
   "name": "python3"
  },
  "language_info": {
   "codemirror_mode": {
    "name": "ipython",
    "version": 3
   },
   "file_extension": ".py",
   "mimetype": "text/x-python",
   "name": "python",
   "nbconvert_exporter": "python",
   "pygments_lexer": "ipython3",
   "version": "3.8.3"
  }
 },
 "nbformat": 4,
 "nbformat_minor": 4
}
