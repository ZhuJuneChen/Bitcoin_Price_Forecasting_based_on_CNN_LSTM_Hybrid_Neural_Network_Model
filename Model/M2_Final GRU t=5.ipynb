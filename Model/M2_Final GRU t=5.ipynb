{
 "cells": [
  {
   "cell_type": "code",
   "execution_count": 2,
   "metadata": {
    "colab": {},
    "colab_type": "code",
    "id": "C5qLkKDOMkrI"
   },
   "outputs": [],
   "source": [
    "%matplotlib inline\n",
    "import glob\n",
    "import matplotlib.pyplot as plt\n",
    "import numpy as np\n",
    "import pandas as pd\n",
    "import sklearn\n",
    "from sklearn.preprocessing import MinMaxScaler\n",
    "from sklearn.metrics import mean_squared_error\n",
    "import torch\n",
    "import torch.nn as nn\n",
    "import torch.optim as optim\n",
    "from torch.utils.data import Dataset, DataLoader"
   ]
  },
  {
   "cell_type": "markdown",
   "metadata": {},
   "source": [
    "## Data Pre-processing"
   ]
  },
  {
   "cell_type": "code",
   "execution_count": 3,
   "metadata": {
    "colab": {},
    "colab_type": "code",
    "id": "HW1tVIqmkZoU"
   },
   "outputs": [
    {
     "data": {
      "text/html": [
       "<div>\n",
       "<style scoped>\n",
       "    .dataframe tbody tr th:only-of-type {\n",
       "        vertical-align: middle;\n",
       "    }\n",
       "\n",
       "    .dataframe tbody tr th {\n",
       "        vertical-align: top;\n",
       "    }\n",
       "\n",
       "    .dataframe thead th {\n",
       "        text-align: right;\n",
       "    }\n",
       "</style>\n",
       "<table border=\"1\" class=\"dataframe\">\n",
       "  <thead>\n",
       "    <tr style=\"text-align: right;\">\n",
       "      <th></th>\n",
       "      <th>Date</th>\n",
       "      <th>Open</th>\n",
       "      <th>High</th>\n",
       "      <th>Low</th>\n",
       "      <th>Close</th>\n",
       "      <th>Volume</th>\n",
       "      <th>Market Cap</th>\n",
       "    </tr>\n",
       "  </thead>\n",
       "  <tbody>\n",
       "    <tr>\n",
       "      <th>3041</th>\n",
       "      <td>Jul 02 2013</td>\n",
       "      <td>88.05</td>\n",
       "      <td>92.30</td>\n",
       "      <td>87.51</td>\n",
       "      <td>90.13</td>\n",
       "      <td>0.0</td>\n",
       "      <td>1.024082e+09</td>\n",
       "    </tr>\n",
       "    <tr>\n",
       "      <th>3040</th>\n",
       "      <td>Jul 03 2013</td>\n",
       "      <td>90.40</td>\n",
       "      <td>90.98</td>\n",
       "      <td>76.98</td>\n",
       "      <td>77.53</td>\n",
       "      <td>0.0</td>\n",
       "      <td>8.812331e+08</td>\n",
       "    </tr>\n",
       "    <tr>\n",
       "      <th>3039</th>\n",
       "      <td>Jul 04 2013</td>\n",
       "      <td>78.89</td>\n",
       "      <td>83.11</td>\n",
       "      <td>72.00</td>\n",
       "      <td>80.53</td>\n",
       "      <td>0.0</td>\n",
       "      <td>9.156186e+08</td>\n",
       "    </tr>\n",
       "    <tr>\n",
       "      <th>3038</th>\n",
       "      <td>Jul 05 2013</td>\n",
       "      <td>79.99</td>\n",
       "      <td>80.00</td>\n",
       "      <td>65.53</td>\n",
       "      <td>68.43</td>\n",
       "      <td>0.0</td>\n",
       "      <td>7.784112e+08</td>\n",
       "    </tr>\n",
       "    <tr>\n",
       "      <th>3037</th>\n",
       "      <td>Jul 06 2013</td>\n",
       "      <td>68.50</td>\n",
       "      <td>75.00</td>\n",
       "      <td>66.82</td>\n",
       "      <td>70.28</td>\n",
       "      <td>0.0</td>\n",
       "      <td>7.997416e+08</td>\n",
       "    </tr>\n",
       "  </tbody>\n",
       "</table>\n",
       "</div>"
      ],
      "text/plain": [
       "             Date   Open   High    Low  Close  Volume    Market Cap\n",
       "3041  Jul 02 2013  88.05  92.30  87.51  90.13     0.0  1.024082e+09\n",
       "3040  Jul 03 2013  90.40  90.98  76.98  77.53     0.0  8.812331e+08\n",
       "3039  Jul 04 2013  78.89  83.11  72.00  80.53     0.0  9.156186e+08\n",
       "3038  Jul 05 2013  79.99  80.00  65.53  68.43     0.0  7.784112e+08\n",
       "3037  Jul 06 2013  68.50  75.00  66.82  70.28     0.0  7.997416e+08"
      ]
     },
     "execution_count": 3,
     "metadata": {},
     "output_type": "execute_result"
    }
   ],
   "source": [
    "df = pd.read_csv('./1_Bitcoin.csv')\n",
    "df.shape\n",
    "# data preprocee\n",
    "df=df.applymap(lambda x: x.replace('$',''))\n",
    "df=df.applymap(lambda x: x.replace(',',''))\n",
    "cl = ['Open*', 'High', 'Low', 'Close**', 'Volume', 'Market Cap']\n",
    "for c in cl:\n",
    "    df[c] = df[c].astype(float)\n",
    "\n",
    "df = df.rename(columns={'Open*': 'Open', 'Close**': 'Close'})\n",
    "df = df[::-1]\n",
    "df.head()"
   ]
  },
  {
   "cell_type": "markdown",
   "metadata": {
    "colab_type": "text",
    "id": "Wuc7xe5fZl2B"
   },
   "source": [
    "The data representation where we group trades by the predefined time interval is called time bars.\n",
    "https://www.amazon.com/Advances-Financial-Machine-Learning-Marcos/dp/1119482089"
   ]
  },
  {
   "cell_type": "code",
   "execution_count": 4,
   "metadata": {},
   "outputs": [
    {
     "data": {
      "text/plain": [
       "(3042, 5)"
      ]
     },
     "execution_count": 4,
     "metadata": {},
     "output_type": "execute_result"
    }
   ],
   "source": [
    "df = df.loc[:, ['Close','Open', 'High', 'Low', 'Volume']]\n",
    "df.shape"
   ]
  },
  {
   "cell_type": "code",
   "execution_count": 5,
   "metadata": {},
   "outputs": [
    {
     "data": {
      "text/plain": [
       "(3042, 5)"
      ]
     },
     "execution_count": 5,
     "metadata": {},
     "output_type": "execute_result"
    }
   ],
   "source": [
    "from sklearn.preprocessing import MinMaxScaler\n",
    "\n",
    "scaler = MinMaxScaler(feature_range=(0, 1))\n",
    "scaled_data = scaler.fit_transform(df)\n",
    "\n",
    "scaled_data = scaled_data.astype(np.float32)\n",
    "scaled_data.shape"
   ]
  },
  {
   "cell_type": "code",
   "execution_count": 6,
   "metadata": {},
   "outputs": [],
   "source": [
    "def transform_data(arr, seq_len):\n",
    "    data_X = []\n",
    "    data_y = []\n",
    "    for i in range(0, arr.shape[0] - seq_len):\n",
    "        data_X.append(arr[i:i+seq_len, :].copy())\n",
    "        data_y.append(arr[i+seq_len, 3])\n",
    "    data_X = np.stack(data_X, axis=0)\n",
    "    data_y = np.array(data_y).reshape(-1, 1)\n",
    "    return data_X, data_y"
   ]
  },
  {
   "cell_type": "code",
   "execution_count": 7,
   "metadata": {},
   "outputs": [
    {
     "data": {
      "text/plain": [
       "((3037, 5, 5), (3037, 1))"
      ]
     },
     "execution_count": 7,
     "metadata": {},
     "output_type": "execute_result"
    }
   ],
   "source": [
    "# set time_stamp\n",
    "time_stamp = 5\n",
    "\n",
    "# transfrom data\n",
    "X_data, y_data = transform_data(scaled_data, time_stamp)\n",
    "X_data.shape, y_data.shape"
   ]
  },
  {
   "cell_type": "code",
   "execution_count": 8,
   "metadata": {},
   "outputs": [],
   "source": [
    "class SequenceDataset(Dataset):\n",
    "    def __init__(self, X, y):\n",
    "        self.X = X\n",
    "        self.y = y\n",
    "\n",
    "    def __len__(self):\n",
    "        return self.X.shape[0]\n",
    "\n",
    "    def __getitem__(self, i): \n",
    "        return self.X[i, :, :], self.y[i]"
   ]
  },
  {
   "cell_type": "code",
   "execution_count": 9,
   "metadata": {},
   "outputs": [
    {
     "name": "stdout",
     "output_type": "stream",
     "text": [
      "X_train (1822, 5, 5) y_train (1822, 1)\n",
      "X_valid (607, 5, 5) y_valid (607, 1)\n",
      "X_test (608, 5, 5) y_test (608, 1)\n"
     ]
    }
   ],
   "source": [
    "data_cnt = y_data.shape[0]\n",
    "X_train = X_data[0:int(data_cnt * 0.6), :]\n",
    "y_train = y_data[0:int(data_cnt * 0.6), :]\n",
    "\n",
    "X_valid = X_data[int(data_cnt * 0.6):int(data_cnt * 0.8), :]\n",
    "y_valid = y_data[int(data_cnt * 0.6):int(data_cnt * 0.8), :]\n",
    "\n",
    "X_test = X_data[int(data_cnt * 0.8):, :]\n",
    "y_test = y_data[int(data_cnt * 0.8):, :]\n",
    "\n",
    "df_valid = df.iloc[int(data_cnt * 0.6): int(data_cnt * 0.8), :]\n",
    "df_test = df.iloc[int(data_cnt * 0.8) + 1:, :]\n",
    "\n",
    "print('X_train', X_train.shape, 'y_train', y_train.shape)\n",
    "print('X_valid', X_valid.shape, 'y_valid', y_valid.shape)\n",
    "print('X_test', X_test.shape, 'y_test', y_test.shape)"
   ]
  },
  {
   "cell_type": "markdown",
   "metadata": {},
   "source": [
    "## Model"
   ]
  },
  {
   "cell_type": "code",
   "execution_count": 10,
   "metadata": {},
   "outputs": [],
   "source": [
    "# set batch_size\n",
    "batch_size = 64"
   ]
  },
  {
   "cell_type": "code",
   "execution_count": 11,
   "metadata": {},
   "outputs": [],
   "source": [
    "train_data = SequenceDataset(X_train, y_train)\n",
    "train_dataloader = DataLoader(train_data, batch_size=batch_size, shuffle=False, drop_last=True)\n",
    "\n",
    "valid_data = SequenceDataset(X_valid, y_valid)\n",
    "valid_dataloader = DataLoader(valid_data, batch_size=batch_size, shuffle=False, drop_last=True)\n",
    "\n",
    "test_data = SequenceDataset(X_test, y_test)\n",
    "test_dataloader = DataLoader(test_data, batch_size=1, shuffle=False, drop_last=True)"
   ]
  },
  {
   "cell_type": "code",
   "execution_count": 12,
   "metadata": {},
   "outputs": [],
   "source": [
    "class Model(nn.Module):\n",
    "    def __init__(self, rnn_type, input_dim, hidden_dim, num_layers, output_dim):\n",
    "        super(Model, self).__init__()\n",
    "        self.hidden_dim = hidden_dim\n",
    "        self.num_layers = num_layers\n",
    "        self.rnn_type = rnn_type\n",
    "        self.rnn = nn.GRU(input_dim, hidden_dim, num_layers, batch_first=True)\n",
    "        self.fc = nn.Linear(hidden_dim, output_dim)\n",
    "        self.relu = nn.ReLU(inplace=True)\n",
    "\n",
    "    def forward(self, x, hidden=None):\n",
    "        \n",
    "        out, hidden = self.rnn(x, hidden)\n",
    "        out = self.fc(out[:, -1, :])\n",
    "        return out, hidden\n"
   ]
  },
  {
   "cell_type": "code",
   "execution_count": 13,
   "metadata": {},
   "outputs": [
    {
     "data": {
      "text/plain": [
       "Model(\n",
       "  (rnn): GRU(5, 128, num_layers=2, batch_first=True)\n",
       "  (fc): Linear(in_features=128, out_features=1, bias=True)\n",
       "  (relu): ReLU(inplace=True)\n",
       ")"
      ]
     },
     "execution_count": 13,
     "metadata": {},
     "output_type": "execute_result"
    }
   ],
   "source": [
    "model =  Model('gru', 5, 128, 2, 1)\n",
    "model"
   ]
  },
  {
   "cell_type": "code",
   "execution_count": 14,
   "metadata": {},
   "outputs": [],
   "source": [
    "# param\n",
    "epoch = 300\n",
    "lr = 0.00001\n",
    "loss_function = nn.MSELoss(reduction='mean')\n",
    "optimizer = optim.Adam(model.parameters(), lr=lr)\n",
    "#scheduler = optim.lr_scheduler.StepLR(optimizer, step_size=40, gamma=0.1)"
   ]
  },
  {
   "cell_type": "code",
   "execution_count": 15,
   "metadata": {},
   "outputs": [
    {
     "name": "stdout",
     "output_type": "stream",
     "text": [
      "Epoch 0, train MSE: 0.003216, valid MSE: 0.011591\n",
      "Epoch 1, train MSE: 0.002868, valid MSE: 0.010117\n",
      "Epoch 2, train MSE: 0.002735, valid MSE: 0.009206\n",
      "Epoch 3, train MSE: 0.002681, valid MSE: 0.008638\n",
      "Epoch 4, train MSE: 0.002651, valid MSE: 0.008266\n",
      "Epoch 5, train MSE: 0.002628, valid MSE: 0.008009\n",
      "Epoch 6, train MSE: 0.002606, valid MSE: 0.007821\n",
      "Epoch 7, train MSE: 0.002584, valid MSE: 0.007676\n",
      "Epoch 8, train MSE: 0.002561, valid MSE: 0.007557\n",
      "Epoch 9, train MSE: 0.002537, valid MSE: 0.007454\n",
      "Epoch 10, train MSE: 0.002514, valid MSE: 0.007361\n",
      "Epoch 11, train MSE: 0.002490, valid MSE: 0.007275\n",
      "Epoch 12, train MSE: 0.002466, valid MSE: 0.007194\n",
      "Epoch 13, train MSE: 0.002442, valid MSE: 0.007115\n",
      "Epoch 14, train MSE: 0.002418, valid MSE: 0.007038\n",
      "Epoch 15, train MSE: 0.002394, valid MSE: 0.006963\n",
      "Epoch 16, train MSE: 0.002370, valid MSE: 0.006888\n",
      "Epoch 17, train MSE: 0.002346, valid MSE: 0.006815\n",
      "Epoch 18, train MSE: 0.002322, valid MSE: 0.006741\n",
      "Epoch 19, train MSE: 0.002298, valid MSE: 0.006668\n",
      "Epoch 20, train MSE: 0.002274, valid MSE: 0.006596\n",
      "Epoch 21, train MSE: 0.002250, valid MSE: 0.006523\n",
      "Epoch 22, train MSE: 0.002226, valid MSE: 0.006451\n",
      "Epoch 23, train MSE: 0.002202, valid MSE: 0.006379\n",
      "Epoch 24, train MSE: 0.002178, valid MSE: 0.006307\n",
      "Epoch 25, train MSE: 0.002154, valid MSE: 0.006234\n",
      "Epoch 26, train MSE: 0.002130, valid MSE: 0.006162\n",
      "Epoch 27, train MSE: 0.002106, valid MSE: 0.006090\n",
      "Epoch 28, train MSE: 0.002082, valid MSE: 0.006018\n",
      "Epoch 29, train MSE: 0.002058, valid MSE: 0.005946\n",
      "Epoch 30, train MSE: 0.002034, valid MSE: 0.005873\n",
      "Epoch 31, train MSE: 0.002010, valid MSE: 0.005801\n",
      "Epoch 32, train MSE: 0.001986, valid MSE: 0.005728\n",
      "Epoch 33, train MSE: 0.001961, valid MSE: 0.005655\n",
      "Epoch 34, train MSE: 0.001937, valid MSE: 0.005582\n",
      "Epoch 35, train MSE: 0.001912, valid MSE: 0.005509\n",
      "Epoch 36, train MSE: 0.001888, valid MSE: 0.005436\n",
      "Epoch 37, train MSE: 0.001863, valid MSE: 0.005362\n",
      "Epoch 38, train MSE: 0.001839, valid MSE: 0.005289\n",
      "Epoch 39, train MSE: 0.001814, valid MSE: 0.005215\n",
      "Epoch 40, train MSE: 0.001789, valid MSE: 0.005141\n",
      "Epoch 41, train MSE: 0.001764, valid MSE: 0.005067\n",
      "Epoch 42, train MSE: 0.001739, valid MSE: 0.004992\n",
      "Epoch 43, train MSE: 0.001714, valid MSE: 0.004918\n",
      "Epoch 44, train MSE: 0.001689, valid MSE: 0.004843\n",
      "Epoch 45, train MSE: 0.001664, valid MSE: 0.004768\n",
      "Epoch 46, train MSE: 0.001639, valid MSE: 0.004693\n",
      "Epoch 47, train MSE: 0.001613, valid MSE: 0.004617\n",
      "Epoch 48, train MSE: 0.001588, valid MSE: 0.004542\n",
      "Epoch 49, train MSE: 0.001563, valid MSE: 0.004466\n",
      "Epoch 50, train MSE: 0.001537, valid MSE: 0.004390\n",
      "Epoch 51, train MSE: 0.001511, valid MSE: 0.004314\n",
      "Epoch 52, train MSE: 0.001486, valid MSE: 0.004238\n",
      "Epoch 53, train MSE: 0.001460, valid MSE: 0.004161\n",
      "Epoch 54, train MSE: 0.001434, valid MSE: 0.004085\n",
      "Epoch 55, train MSE: 0.001409, valid MSE: 0.004008\n",
      "Epoch 56, train MSE: 0.001383, valid MSE: 0.003931\n",
      "Epoch 57, train MSE: 0.001357, valid MSE: 0.003855\n",
      "Epoch 58, train MSE: 0.001331, valid MSE: 0.003778\n",
      "Epoch 59, train MSE: 0.001305, valid MSE: 0.003701\n",
      "Epoch 60, train MSE: 0.001279, valid MSE: 0.003624\n",
      "Epoch 61, train MSE: 0.001253, valid MSE: 0.003546\n",
      "Epoch 62, train MSE: 0.001227, valid MSE: 0.003469\n",
      "Epoch 63, train MSE: 0.001201, valid MSE: 0.003392\n",
      "Epoch 64, train MSE: 0.001175, valid MSE: 0.003315\n",
      "Epoch 65, train MSE: 0.001149, valid MSE: 0.003238\n",
      "Epoch 66, train MSE: 0.001123, valid MSE: 0.003161\n",
      "Epoch 67, train MSE: 0.001097, valid MSE: 0.003085\n",
      "Epoch 68, train MSE: 0.001071, valid MSE: 0.003008\n",
      "Epoch 69, train MSE: 0.001045, valid MSE: 0.002931\n",
      "Epoch 70, train MSE: 0.001020, valid MSE: 0.002855\n",
      "Epoch 71, train MSE: 0.000994, valid MSE: 0.002779\n",
      "Epoch 72, train MSE: 0.000968, valid MSE: 0.002703\n",
      "Epoch 73, train MSE: 0.000943, valid MSE: 0.002628\n",
      "Epoch 74, train MSE: 0.000917, valid MSE: 0.002553\n",
      "Epoch 75, train MSE: 0.000892, valid MSE: 0.002478\n",
      "Epoch 76, train MSE: 0.000867, valid MSE: 0.002404\n",
      "Epoch 77, train MSE: 0.000842, valid MSE: 0.002330\n",
      "Epoch 78, train MSE: 0.000817, valid MSE: 0.002257\n",
      "Epoch 79, train MSE: 0.000792, valid MSE: 0.002184\n",
      "Epoch 80, train MSE: 0.000768, valid MSE: 0.002112\n",
      "Epoch 81, train MSE: 0.000744, valid MSE: 0.002041\n",
      "Epoch 82, train MSE: 0.000719, valid MSE: 0.001970\n",
      "Epoch 83, train MSE: 0.000696, valid MSE: 0.001900\n",
      "Epoch 84, train MSE: 0.000672, valid MSE: 0.001831\n",
      "Epoch 85, train MSE: 0.000649, valid MSE: 0.001762\n",
      "Epoch 86, train MSE: 0.000626, valid MSE: 0.001695\n",
      "Epoch 87, train MSE: 0.000603, valid MSE: 0.001628\n",
      "Epoch 88, train MSE: 0.000581, valid MSE: 0.001563\n",
      "Epoch 89, train MSE: 0.000558, valid MSE: 0.001498\n",
      "Epoch 90, train MSE: 0.000537, valid MSE: 0.001435\n",
      "Epoch 91, train MSE: 0.000515, valid MSE: 0.001373\n",
      "Epoch 92, train MSE: 0.000494, valid MSE: 0.001312\n",
      "Epoch 93, train MSE: 0.000474, valid MSE: 0.001252\n",
      "Epoch 94, train MSE: 0.000454, valid MSE: 0.001193\n",
      "Epoch 95, train MSE: 0.000434, valid MSE: 0.001136\n",
      "Epoch 96, train MSE: 0.000414, valid MSE: 0.001080\n",
      "Epoch 97, train MSE: 0.000396, valid MSE: 0.001025\n",
      "Epoch 98, train MSE: 0.000377, valid MSE: 0.000972\n",
      "Epoch 99, train MSE: 0.000359, valid MSE: 0.000921\n",
      "Epoch 100, train MSE: 0.000342, valid MSE: 0.000870\n",
      "Epoch 101, train MSE: 0.000325, valid MSE: 0.000822\n",
      "Epoch 102, train MSE: 0.000308, valid MSE: 0.000775\n",
      "Epoch 103, train MSE: 0.000292, valid MSE: 0.000730\n",
      "Epoch 104, train MSE: 0.000277, valid MSE: 0.000686\n",
      "Epoch 105, train MSE: 0.000262, valid MSE: 0.000644\n",
      "Epoch 106, train MSE: 0.000248, valid MSE: 0.000603\n",
      "Epoch 107, train MSE: 0.000234, valid MSE: 0.000564\n",
      "Epoch 108, train MSE: 0.000221, valid MSE: 0.000527\n",
      "Epoch 109, train MSE: 0.000208, valid MSE: 0.000492\n",
      "Epoch 110, train MSE: 0.000196, valid MSE: 0.000458\n",
      "Epoch 111, train MSE: 0.000185, valid MSE: 0.000426\n",
      "Epoch 112, train MSE: 0.000174, valid MSE: 0.000395\n",
      "Epoch 113, train MSE: 0.000163, valid MSE: 0.000366\n",
      "Epoch 114, train MSE: 0.000153, valid MSE: 0.000339\n",
      "Epoch 115, train MSE: 0.000144, valid MSE: 0.000313\n",
      "Epoch 116, train MSE: 0.000135, valid MSE: 0.000289\n",
      "Epoch 117, train MSE: 0.000127, valid MSE: 0.000266\n",
      "Epoch 118, train MSE: 0.000119, valid MSE: 0.000245\n",
      "Epoch 119, train MSE: 0.000112, valid MSE: 0.000226\n",
      "Epoch 120, train MSE: 0.000105, valid MSE: 0.000207\n",
      "Epoch 121, train MSE: 0.000098, valid MSE: 0.000190\n",
      "Epoch 122, train MSE: 0.000092, valid MSE: 0.000175\n",
      "Epoch 123, train MSE: 0.000087, valid MSE: 0.000160\n",
      "Epoch 124, train MSE: 0.000082, valid MSE: 0.000147\n",
      "Epoch 125, train MSE: 0.000077, valid MSE: 0.000135\n",
      "Epoch 126, train MSE: 0.000073, valid MSE: 0.000124\n",
      "Epoch 127, train MSE: 0.000069, valid MSE: 0.000114\n",
      "Epoch 128, train MSE: 0.000065, valid MSE: 0.000105\n",
      "Epoch 129, train MSE: 0.000062, valid MSE: 0.000097\n",
      "Epoch 130, train MSE: 0.000059, valid MSE: 0.000090\n",
      "Epoch 131, train MSE: 0.000056, valid MSE: 0.000084\n",
      "Epoch 132, train MSE: 0.000054, valid MSE: 0.000078\n",
      "Epoch 133, train MSE: 0.000052, valid MSE: 0.000073\n",
      "Epoch 134, train MSE: 0.000050, valid MSE: 0.000069\n",
      "Epoch 135, train MSE: 0.000048, valid MSE: 0.000065\n",
      "Epoch 136, train MSE: 0.000046, valid MSE: 0.000061\n",
      "Epoch 137, train MSE: 0.000045, valid MSE: 0.000058\n",
      "Epoch 138, train MSE: 0.000044, valid MSE: 0.000056\n",
      "Epoch 139, train MSE: 0.000043, valid MSE: 0.000054\n",
      "Epoch 140, train MSE: 0.000042, valid MSE: 0.000052\n",
      "Epoch 141, train MSE: 0.000041, valid MSE: 0.000050\n",
      "Epoch 142, train MSE: 0.000040, valid MSE: 0.000049\n",
      "Epoch 143, train MSE: 0.000040, valid MSE: 0.000048\n",
      "Epoch 144, train MSE: 0.000039, valid MSE: 0.000047\n",
      "Epoch 145, train MSE: 0.000039, valid MSE: 0.000047\n",
      "Epoch 146, train MSE: 0.000038, valid MSE: 0.000046\n",
      "Epoch 147, train MSE: 0.000038, valid MSE: 0.000046\n",
      "Epoch 148, train MSE: 0.000038, valid MSE: 0.000045\n",
      "Epoch 149, train MSE: 0.000037, valid MSE: 0.000045\n",
      "Epoch 150, train MSE: 0.000037, valid MSE: 0.000045\n",
      "Epoch 151, train MSE: 0.000037, valid MSE: 0.000045\n",
      "Epoch 152, train MSE: 0.000037, valid MSE: 0.000045\n",
      "Epoch 153, train MSE: 0.000037, valid MSE: 0.000045\n",
      "Epoch 154, train MSE: 0.000037, valid MSE: 0.000045\n",
      "Epoch 155, train MSE: 0.000037, valid MSE: 0.000045\n",
      "Epoch 156, train MSE: 0.000036, valid MSE: 0.000045\n",
      "Epoch 157, train MSE: 0.000036, valid MSE: 0.000045\n",
      "Epoch 158, train MSE: 0.000036, valid MSE: 0.000045\n",
      "Epoch 159, train MSE: 0.000036, valid MSE: 0.000045\n"
     ]
    },
    {
     "name": "stdout",
     "output_type": "stream",
     "text": [
      "Epoch 160, train MSE: 0.000036, valid MSE: 0.000045\n",
      "Epoch 161, train MSE: 0.000036, valid MSE: 0.000045\n",
      "Epoch 162, train MSE: 0.000036, valid MSE: 0.000046\n",
      "Epoch 163, train MSE: 0.000036, valid MSE: 0.000046\n",
      "Epoch 164, train MSE: 0.000036, valid MSE: 0.000046\n",
      "Epoch 165, train MSE: 0.000036, valid MSE: 0.000046\n",
      "Epoch 166, train MSE: 0.000036, valid MSE: 0.000046\n",
      "Epoch 167, train MSE: 0.000036, valid MSE: 0.000046\n",
      "Epoch 168, train MSE: 0.000036, valid MSE: 0.000046\n",
      "Epoch 169, train MSE: 0.000036, valid MSE: 0.000046\n",
      "Epoch 170, train MSE: 0.000036, valid MSE: 0.000046\n",
      "Epoch 171, train MSE: 0.000036, valid MSE: 0.000046\n",
      "Epoch 172, train MSE: 0.000036, valid MSE: 0.000046\n",
      "Epoch 173, train MSE: 0.000036, valid MSE: 0.000046\n",
      "Epoch 174, train MSE: 0.000036, valid MSE: 0.000046\n",
      "Epoch 175, train MSE: 0.000036, valid MSE: 0.000046\n",
      "Epoch 176, train MSE: 0.000036, valid MSE: 0.000046\n",
      "Epoch 177, train MSE: 0.000036, valid MSE: 0.000046\n",
      "Epoch 178, train MSE: 0.000036, valid MSE: 0.000046\n",
      "Epoch 179, train MSE: 0.000036, valid MSE: 0.000046\n",
      "Epoch 180, train MSE: 0.000036, valid MSE: 0.000046\n",
      "Epoch 181, train MSE: 0.000036, valid MSE: 0.000046\n",
      "Epoch 182, train MSE: 0.000036, valid MSE: 0.000046\n",
      "Epoch 183, train MSE: 0.000036, valid MSE: 0.000046\n",
      "Epoch 184, train MSE: 0.000036, valid MSE: 0.000046\n",
      "Epoch 185, train MSE: 0.000036, valid MSE: 0.000046\n",
      "Epoch 186, train MSE: 0.000036, valid MSE: 0.000046\n",
      "Epoch 187, train MSE: 0.000036, valid MSE: 0.000046\n",
      "Epoch 188, train MSE: 0.000036, valid MSE: 0.000046\n",
      "Epoch 189, train MSE: 0.000036, valid MSE: 0.000046\n",
      "Epoch 190, train MSE: 0.000036, valid MSE: 0.000046\n",
      "Epoch 191, train MSE: 0.000036, valid MSE: 0.000046\n",
      "Epoch 192, train MSE: 0.000036, valid MSE: 0.000046\n",
      "Epoch 193, train MSE: 0.000036, valid MSE: 0.000046\n",
      "Epoch 194, train MSE: 0.000036, valid MSE: 0.000046\n",
      "Epoch 195, train MSE: 0.000036, valid MSE: 0.000046\n",
      "Epoch 196, train MSE: 0.000036, valid MSE: 0.000046\n",
      "Epoch 197, train MSE: 0.000036, valid MSE: 0.000046\n",
      "Epoch 198, train MSE: 0.000036, valid MSE: 0.000046\n",
      "Epoch 199, train MSE: 0.000036, valid MSE: 0.000046\n",
      "Epoch 200, train MSE: 0.000036, valid MSE: 0.000046\n",
      "Epoch 201, train MSE: 0.000036, valid MSE: 0.000046\n",
      "Epoch 202, train MSE: 0.000036, valid MSE: 0.000046\n",
      "Epoch 203, train MSE: 0.000036, valid MSE: 0.000046\n",
      "Epoch 204, train MSE: 0.000036, valid MSE: 0.000046\n",
      "Epoch 205, train MSE: 0.000036, valid MSE: 0.000046\n",
      "Epoch 206, train MSE: 0.000036, valid MSE: 0.000046\n",
      "Epoch 207, train MSE: 0.000036, valid MSE: 0.000046\n",
      "Epoch 208, train MSE: 0.000036, valid MSE: 0.000046\n",
      "Epoch 209, train MSE: 0.000036, valid MSE: 0.000046\n",
      "Epoch 210, train MSE: 0.000036, valid MSE: 0.000046\n",
      "Epoch 211, train MSE: 0.000036, valid MSE: 0.000046\n",
      "Epoch 212, train MSE: 0.000036, valid MSE: 0.000046\n",
      "Epoch 213, train MSE: 0.000036, valid MSE: 0.000046\n",
      "Epoch 214, train MSE: 0.000036, valid MSE: 0.000046\n",
      "Epoch 215, train MSE: 0.000036, valid MSE: 0.000046\n",
      "Epoch 216, train MSE: 0.000036, valid MSE: 0.000046\n",
      "Epoch 217, train MSE: 0.000036, valid MSE: 0.000046\n",
      "Epoch 218, train MSE: 0.000036, valid MSE: 0.000046\n",
      "Epoch 219, train MSE: 0.000036, valid MSE: 0.000046\n",
      "Epoch 220, train MSE: 0.000036, valid MSE: 0.000046\n",
      "Epoch 221, train MSE: 0.000036, valid MSE: 0.000046\n",
      "Epoch 222, train MSE: 0.000036, valid MSE: 0.000046\n",
      "Epoch 223, train MSE: 0.000036, valid MSE: 0.000046\n",
      "Epoch 224, train MSE: 0.000036, valid MSE: 0.000046\n",
      "Epoch 225, train MSE: 0.000036, valid MSE: 0.000046\n",
      "Epoch 226, train MSE: 0.000036, valid MSE: 0.000046\n",
      "Epoch 227, train MSE: 0.000036, valid MSE: 0.000046\n",
      "Epoch 228, train MSE: 0.000036, valid MSE: 0.000046\n",
      "Epoch 229, train MSE: 0.000036, valid MSE: 0.000046\n",
      "Epoch 230, train MSE: 0.000036, valid MSE: 0.000046\n",
      "Epoch 231, train MSE: 0.000036, valid MSE: 0.000046\n",
      "Epoch 232, train MSE: 0.000036, valid MSE: 0.000046\n",
      "Epoch 233, train MSE: 0.000036, valid MSE: 0.000046\n",
      "Epoch 234, train MSE: 0.000036, valid MSE: 0.000046\n",
      "Epoch 235, train MSE: 0.000036, valid MSE: 0.000046\n",
      "Epoch 236, train MSE: 0.000036, valid MSE: 0.000046\n",
      "Epoch 237, train MSE: 0.000036, valid MSE: 0.000046\n",
      "Epoch 238, train MSE: 0.000036, valid MSE: 0.000046\n",
      "Epoch 239, train MSE: 0.000036, valid MSE: 0.000046\n",
      "Epoch 240, train MSE: 0.000036, valid MSE: 0.000046\n",
      "Epoch 241, train MSE: 0.000036, valid MSE: 0.000046\n",
      "Epoch 242, train MSE: 0.000036, valid MSE: 0.000046\n",
      "Epoch 243, train MSE: 0.000036, valid MSE: 0.000046\n",
      "Epoch 244, train MSE: 0.000036, valid MSE: 0.000046\n",
      "Epoch 245, train MSE: 0.000036, valid MSE: 0.000046\n",
      "Epoch 246, train MSE: 0.000036, valid MSE: 0.000046\n",
      "Epoch 247, train MSE: 0.000036, valid MSE: 0.000046\n",
      "Epoch 248, train MSE: 0.000036, valid MSE: 0.000046\n",
      "Epoch 249, train MSE: 0.000036, valid MSE: 0.000046\n",
      "Epoch 250, train MSE: 0.000036, valid MSE: 0.000046\n",
      "Epoch 251, train MSE: 0.000036, valid MSE: 0.000046\n",
      "Epoch 252, train MSE: 0.000036, valid MSE: 0.000046\n",
      "Epoch 253, train MSE: 0.000036, valid MSE: 0.000046\n",
      "Epoch 254, train MSE: 0.000036, valid MSE: 0.000046\n",
      "Epoch 255, train MSE: 0.000036, valid MSE: 0.000046\n",
      "Epoch 256, train MSE: 0.000036, valid MSE: 0.000046\n",
      "Epoch 257, train MSE: 0.000036, valid MSE: 0.000046\n",
      "Epoch 258, train MSE: 0.000036, valid MSE: 0.000046\n",
      "Epoch 259, train MSE: 0.000036, valid MSE: 0.000046\n",
      "Epoch 260, train MSE: 0.000036, valid MSE: 0.000046\n",
      "Epoch 261, train MSE: 0.000036, valid MSE: 0.000046\n",
      "Epoch 262, train MSE: 0.000036, valid MSE: 0.000046\n",
      "Epoch 263, train MSE: 0.000036, valid MSE: 0.000046\n",
      "Epoch 264, train MSE: 0.000036, valid MSE: 0.000046\n",
      "Epoch 265, train MSE: 0.000036, valid MSE: 0.000046\n",
      "Epoch 266, train MSE: 0.000036, valid MSE: 0.000046\n",
      "Epoch 267, train MSE: 0.000036, valid MSE: 0.000046\n",
      "Epoch 268, train MSE: 0.000036, valid MSE: 0.000046\n",
      "Epoch 269, train MSE: 0.000036, valid MSE: 0.000045\n",
      "Epoch 270, train MSE: 0.000036, valid MSE: 0.000045\n",
      "Epoch 271, train MSE: 0.000036, valid MSE: 0.000045\n",
      "Epoch 272, train MSE: 0.000036, valid MSE: 0.000045\n",
      "Epoch 273, train MSE: 0.000036, valid MSE: 0.000045\n",
      "Epoch 274, train MSE: 0.000036, valid MSE: 0.000045\n",
      "Epoch 275, train MSE: 0.000036, valid MSE: 0.000045\n",
      "Epoch 276, train MSE: 0.000036, valid MSE: 0.000045\n",
      "Epoch 277, train MSE: 0.000036, valid MSE: 0.000045\n",
      "Epoch 278, train MSE: 0.000036, valid MSE: 0.000045\n",
      "Epoch 279, train MSE: 0.000036, valid MSE: 0.000045\n",
      "Epoch 280, train MSE: 0.000036, valid MSE: 0.000045\n",
      "Epoch 281, train MSE: 0.000036, valid MSE: 0.000045\n",
      "Epoch 282, train MSE: 0.000036, valid MSE: 0.000045\n",
      "Epoch 283, train MSE: 0.000036, valid MSE: 0.000045\n",
      "Epoch 284, train MSE: 0.000036, valid MSE: 0.000045\n",
      "Epoch 285, train MSE: 0.000036, valid MSE: 0.000045\n",
      "Epoch 286, train MSE: 0.000036, valid MSE: 0.000045\n",
      "Epoch 287, train MSE: 0.000036, valid MSE: 0.000045\n",
      "Epoch 288, train MSE: 0.000036, valid MSE: 0.000045\n",
      "Epoch 289, train MSE: 0.000037, valid MSE: 0.000045\n",
      "Epoch 290, train MSE: 0.000037, valid MSE: 0.000045\n",
      "Epoch 291, train MSE: 0.000037, valid MSE: 0.000045\n",
      "Epoch 292, train MSE: 0.000037, valid MSE: 0.000045\n",
      "Epoch 293, train MSE: 0.000037, valid MSE: 0.000045\n",
      "Epoch 294, train MSE: 0.000037, valid MSE: 0.000045\n",
      "Epoch 295, train MSE: 0.000037, valid MSE: 0.000045\n",
      "Epoch 296, train MSE: 0.000037, valid MSE: 0.000045\n",
      "Epoch 297, train MSE: 0.000037, valid MSE: 0.000045\n",
      "Epoch 298, train MSE: 0.000037, valid MSE: 0.000045\n",
      "Epoch 299, train MSE: 0.000037, valid MSE: 0.000045\n"
     ]
    }
   ],
   "source": [
    "train_avg_lst = []\n",
    "val_avg_lst = []\n",
    "\n",
    "device = torch.device('cpu') if torch.cuda.is_available else torch.device('cpu')\n",
    "\n",
    "model = model.to(device)\n",
    "\n",
    "\n",
    "for epoch in range(epoch):  \n",
    "    train_total_loss = []\n",
    "    \n",
    "    for train_batch_x, train_batch_y in train_dataloader:\n",
    "        train_batch_x = train_batch_x.to(device)\n",
    "        train_batch_y = train_batch_y.to(device)\n",
    "        \n",
    "        # Clear them out Pytorch accumulated gradients before each instance\n",
    "        model.zero_grad()\n",
    "\n",
    "        # Run forward pass\n",
    "        train_out, _ = model(train_batch_x)\n",
    "\n",
    "        # Compute the loss, gradients, and update the parameters by calling optimizer.step()\n",
    "        \n",
    "        # loss function\n",
    "        train_loss = loss_function(train_out, train_batch_y)\n",
    "        \n",
    "        # backward\n",
    "        train_loss.backward()\n",
    "        \n",
    "        # opt\n",
    "        optimizer.step()\n",
    "        \n",
    "        # add loss\n",
    "        np_train_loss = train_loss.item()\n",
    "        train_total_loss.append(np_train_loss)\n",
    "    \n",
    "    # scheduler\n",
    "    #scheduler.step()\n",
    "    \n",
    "    train_avg_loss = sum(train_total_loss) / len(train_total_loss)\n",
    "\n",
    "\n",
    "    val_total_loss = []\n",
    "    with torch.no_grad():\n",
    "        for val_batch_x, val_batch_y in valid_dataloader:\n",
    "            val_batch_x = val_batch_x.to(device)\n",
    "            val_batch_y = val_batch_y.to(device)\n",
    "            \n",
    "            val_out, _ = model(val_batch_x)\n",
    "            \n",
    "            val_loss = loss_function(val_out, val_batch_y)\n",
    "            np_val_loss = val_loss.item()\n",
    "            val_total_loss.append(np_val_loss)\n",
    "    \n",
    "    val_avg_loss = sum(val_total_loss) / len(val_total_loss)\n",
    "    \n",
    "    print(\"Epoch {0}, train MSE: {1:.6f}, valid MSE: {2:.6f}\".format(epoch, train_avg_loss, val_avg_loss))\n",
    "    train_avg_lst.append(train_avg_loss)\n",
    "    val_avg_lst.append(val_avg_loss)"
   ]
  },
  {
   "cell_type": "code",
   "execution_count": 16,
   "metadata": {},
   "outputs": [],
   "source": [
    "pred_test_y = []\n",
    "\n",
    "with torch.no_grad():\n",
    "    for batch_x, batch_y in test_dataloader:\n",
    "        batch_x = batch_x.to(device)\n",
    "        \n",
    "        pred_y, _ = model(batch_x)\n",
    "        np_pred_y = pred_y.cpu().detach().numpy()\n",
    "        pred_test_y.append(np_pred_y)"
   ]
  },
  {
   "cell_type": "code",
   "execution_count": 17,
   "metadata": {},
   "outputs": [
    {
     "data": {
      "text/plain": [
       "(608, 1)"
      ]
     },
     "execution_count": 17,
     "metadata": {},
     "output_type": "execute_result"
    }
   ],
   "source": [
    "pred_test_y = np.concatenate(pred_test_y)\n",
    "pred_test_y.shape"
   ]
  },
  {
   "cell_type": "code",
   "execution_count": 18,
   "metadata": {},
   "outputs": [
    {
     "data": {
      "text/plain": [
       "(608, 2)"
      ]
     },
     "execution_count": 18,
     "metadata": {},
     "output_type": "execute_result"
    }
   ],
   "source": [
    "# inverse transform pred\n",
    "pred_test_y_inverse0 = scaler.inverse_transform(pred_test_y.repeat(5, axis=1))\n",
    "pred_test_y_inverse = pred_test_y_inverse0[:, 3:5]\n",
    "pred_test_y_inverse.shape"
   ]
  },
  {
   "cell_type": "code",
   "execution_count": 19,
   "metadata": {},
   "outputs": [
    {
     "data": {
      "text/plain": [
       "(608, 2)"
      ]
     },
     "execution_count": 19,
     "metadata": {},
     "output_type": "execute_result"
    }
   ],
   "source": [
    "# inverse transform gt\n",
    "y_test_inverse0 = scaler.inverse_transform(y_test.repeat(5, axis=1))\n",
    "y_test_inverse = y_test_inverse0[:, 3:5]\n",
    "y_test_inverse.shape"
   ]
  },
  {
   "cell_type": "code",
   "execution_count": 20,
   "metadata": {},
   "outputs": [],
   "source": [
    "def mean_absolute_percentage_error(y_true, y_pred): \n",
    "    return np.mean(np.abs((y_true - y_pred) / y_true))"
   ]
  },
  {
   "cell_type": "code",
   "execution_count": 21,
   "metadata": {},
   "outputs": [
    {
     "data": {
      "image/png": "[encoded data removed]",
      "text/plain": [
       "<Figure size 432x288 with 1 Axes>"
      ]
     },
     "metadata": {
      "needs_background": "light"
     },
     "output_type": "display_data"
    }
   ],
   "source": [
    "# draw loss\n",
    "x_axis = np.arange(len(train_avg_lst))\n",
    "plt.plot(x_axis, train_avg_lst, label='train MSE')\n",
    "plt.plot(x_axis, val_avg_lst, label='val MSE')\n",
    "plt.legend()\n",
    "plt.show()"
   ]
  },
  {
   "cell_type": "code",
   "execution_count": 22,
   "metadata": {},
   "outputs": [
    {
     "data": {
      "text/plain": [
       "(608, 2)"
      ]
     },
     "execution_count": 22,
     "metadata": {},
     "output_type": "execute_result"
    }
   ],
   "source": [
    "pred_test_y_inverse.shape"
   ]
  },
  {
   "cell_type": "markdown",
   "metadata": {},
   "source": [
    "## Model Report"
   ]
  },
  {
   "cell_type": "code",
   "execution_count": 23,
   "metadata": {},
   "outputs": [
    {
     "name": "stdout",
     "output_type": "stream",
     "text": [
      "The mean absolute percentage error for the GRU is: 0.061094\n"
     ]
    }
   ],
   "source": [
    "MAPE = mean_absolute_percentage_error(pred_test_y_inverse, y_test_inverse)\n",
    "print(\"The mean absolute percentage error for the GRU is: %2f\"%MAPE)"
   ]
  },
  {
   "cell_type": "code",
   "execution_count": 24,
   "metadata": {},
   "outputs": [
    {
     "data": {
      "image/png": "[encoded data removed]",
      "text/plain": [
       "<Figure size 432x288 with 1 Axes>"
      ]
     },
     "metadata": {
      "needs_background": "light"
     },
     "output_type": "display_data"
    }
   ],
   "source": [
    "\n",
    "x_axis = np.arange(pred_test_y_inverse.shape[0])\n",
    "plt.plot(x_axis, y_test_inverse[:, 0], label='Actual')\n",
    "plt.plot(x_axis, pred_test_y_inverse[:, 0], label='Predicted')\n",
    "plt.legend()\n",
    "plt.show()"
   ]
  },
  {
   "cell_type": "code",
   "execution_count": 25,
   "metadata": {},
   "outputs": [
    {
     "data": {
      "image/png": "[encoded data removed]",
      "text/plain": [
       "<Figure size 432x288 with 1 Axes>"
      ]
     },
     "metadata": {
      "needs_background": "light"
     },
     "output_type": "display_data"
    }
   ],
   "source": [
    "x_axis = np.arange(317,517)\n",
    "plt.plot(x_axis, y_test_inverse[317:517, 0], label='Actual')\n",
    "plt.plot(x_axis, pred_test_y_inverse[317:517, 0], label='Predicted')\n",
    "plt.legend()\n",
    "plt.show()"
   ]
  },
  {
   "cell_type": "code",
   "execution_count": null,
   "metadata": {},
   "outputs": [],
   "source": []
  }
 ],
 "metadata": {
  "colab": {
   "collapsed_sections": [],
   "include_colab_link": true,
   "machine_shape": "hm",
   "name": "main.ipynb",
   "provenance": []
  },
  "kernelspec": {
   "display_name": "Python 3",
   "language": "python",
   "name": "python3"
  },
  "language_info": {
   "codemirror_mode": {
    "name": "ipython",
    "version": 3
   },
   "file_extension": ".py",
   "mimetype": "text/x-python",
   "name": "python",
   "nbconvert_exporter": "python",
   "pygments_lexer": "ipython3",
   "version": "3.8.3"
  }
 },
 "nbformat": 4,
 "nbformat_minor": 4
}
